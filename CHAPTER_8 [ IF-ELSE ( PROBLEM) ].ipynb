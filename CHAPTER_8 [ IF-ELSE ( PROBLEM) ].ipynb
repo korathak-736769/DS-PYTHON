{
 "cells": [
  {
   "cell_type": "code",
   "execution_count": null,
   "id": "76db8632",
   "metadata": {},
   "outputs": [],
   "source": [
    "number = int(input('Please input number :'))\n",
    "if(number%2==0):\n",
    "    print('Even Number')\n",
    "else:\n",
    "    print('Odd Number')"
   ]
  },
  {
   "cell_type": "code",
   "execution_count": null,
   "id": "d5760fb4",
   "metadata": {},
   "outputs": [],
   "source": [
    "number = int(input('Please input number :'))\n",
    "if(number > 0):\n",
    "    print('The number is greater than 0.')\n",
    "else:\n",
    "    print('The number is less than or equal to 0.')"
   ]
  },
  {
   "cell_type": "code",
   "execution_count": null,
   "id": "d0646376",
   "metadata": {},
   "outputs": [],
   "source": [
    "number = float(input('Please input number :'))\n",
    "if(number > 0):\n",
    "    print('Positive')\n",
    "elif(number < 0):\n",
    "    print('Negative')\n",
    "else:\n",
    "    print('zero')"
   ]
  },
  {
   "cell_type": "code",
   "execution_count": null,
   "id": "d031b8e6",
   "metadata": {},
   "outputs": [],
   "source": [
    "number = float(input('Please input number :'))\n",
    "if(number > 0):\n",
    "    if(number%2==0):\n",
    "        print('Positive Even')\n",
    "    else:\n",
    "        print('Positive Odd')\n",
    "elif(number < 0):\n",
    "    if(number%2==0):\n",
    "        print('Negative Even')\n",
    "    else:\n",
    "        print('Negative Odd')\n",
    "else:\n",
    "    print('zero')"
   ]
  },
  {
   "cell_type": "code",
   "execution_count": null,
   "id": "aecfaa38",
   "metadata": {},
   "outputs": [],
   "source": [
    "print('Process Rectangle!!!')\n",
    "width = int(input('Please input width :'))\n",
    "length = int(input('Please input length :'))\n",
    "if(width<=0 or length<= 0):\n",
    "    print('Please input again !!!')\n",
    "else:\n",
    "    area = width*length\n",
    "    print('The area is : ',area)\n",
    "    "
   ]
  },
  {
   "cell_type": "code",
   "execution_count": null,
   "id": "ee2c0e72",
   "metadata": {
    "scrolled": true
   },
   "outputs": [],
   "source": [
    "year = int(input('Please input year[BCE] :'))\n",
    "if(year > 0):\n",
    "    year+=543\n",
    "    print('Change BEC to Buddhist era :',year)\n",
    "else:\n",
    "    print('Please input year greater than 0!!!')"
   ]
  },
  {
   "cell_type": "code",
   "execution_count": null,
   "id": "21462b9e",
   "metadata": {},
   "outputs": [],
   "source": [
    "fahr = float(input('Please input temperature[fahrenheit] :')) #temp = temperature , fahr = fahrenheit , cels = celsius\n",
    "if(fahr >= 32):\n",
    "    cels = (5*(fahr-32))/9\n",
    "    print('The celsius temperature is ',cels)\n",
    "elif(fahr<32):\n",
    "    print('is so cold!!!')"
   ]
  },
  {
   "cell_type": "code",
   "execution_count": null,
   "id": "695117ee",
   "metadata": {},
   "outputs": [],
   "source": [
    "dollar_unit = float(input('Please input dollar unit :'))\n",
    "if(dollar_unit>0):\n",
    "    print('THB : ',dollar_unit*32.5)\n",
    "else:\n",
    "    print(\"You don't have money\")"
   ]
  },
  {
   "cell_type": "code",
   "execution_count": null,
   "id": "00985807",
   "metadata": {},
   "outputs": [],
   "source": [
    "Bath_unit = float(input('Please input Bath unit : '))\n",
    "if(Bath_unit>0):\n",
    "    result = Bath_unit/32.80\n",
    "    print('Change dollar unit is %.2f and Bath unit is %.2f' %(result,Bath_unit))\n",
    "    print('Profitable bank %.2f'%(result*0.3))\n",
    "else:\n",
    "    print(\"You don't have money!!!\")"
   ]
  },
  {
   "cell_type": "code",
   "execution_count": null,
   "id": "c4a4bdb2",
   "metadata": {},
   "outputs": [],
   "source": [
    "float1 = float(input('Please input value of number : '))\n",
    "float2 = float(input('Please input value of number : '))\n",
    "if(float1 > float2):\n",
    "    print('value of number1 greater than value of number2')\n",
    "elif(float1 == float2):\n",
    "    print('value of number1 equal value of number2')\n",
    "else:\n",
    "    print('value of number2 greater than value of number1')"
   ]
  },
  {
   "cell_type": "code",
   "execution_count": null,
   "id": "2c2e482d",
   "metadata": {},
   "outputs": [],
   "source": [
    "string1 = len(str(input('Please input string : ')))\n",
    "string2 = len(str(input('Please input string : ')))\n",
    "if(string1 == string2):\n",
    "    print('The string is length same')\n",
    "else:\n",
    "    print('The string is not length same')"
   ]
  },
  {
   "cell_type": "code",
   "execution_count": null,
   "id": "f0e82c78",
   "metadata": {},
   "outputs": [],
   "source": [
    "number = int(input('Please input number [integer] : '))\n",
    "if((number%3==0) or (number%5==0)):\n",
    "    print('Divisible by three or five')\n",
    "else:\n",
    "    print(\"don't divisible by three or five\")"
   ]
  },
  {
   "cell_type": "code",
   "execution_count": null,
   "id": "16472a62",
   "metadata": {},
   "outputs": [],
   "source": [
    "float1 = float(input('Please input number [float] :'))\n",
    "float2 = float(input('Please input number [float] :'))\n",
    "float3 = float(input('Please input number [float] :'))\n",
    "if(float1+float2>float3):\n",
    "    print('%.2f + %.2f > %.2f' %(float1,float2,float3))"
   ]
  },
  {
   "cell_type": "code",
   "execution_count": null,
   "id": "2738c2a6",
   "metadata": {},
   "outputs": [],
   "source": [
    "hour = int(input('Please insert hour:'))\n",
    "minute = int(input('Please insert minute:'))\n",
    "if(minute > 0):\n",
    "    hour = hour + 1\n",
    "fee = (hour - 1)*30\n",
    "print(fee)"
   ]
  },
  {
   "cell_type": "code",
   "execution_count": null,
   "id": "a2a61bc3",
   "metadata": {},
   "outputs": [],
   "source": [
    "hour = int(input('Please insert hour:'))\n",
    "minute = int(input('Please insert minute:'))\n",
    "if(hour < 0) or (minute < 0):\n",
    "    print('Please insert value greater than 0 !!')\n",
    "else:\n",
    "    if minute > 0:\n",
    "        hour = hour + 1\n",
    "    fee = (hour - 1)*30\n",
    "    print(fee)"
   ]
  },
  {
   "cell_type": "code",
   "execution_count": null,
   "id": "76526aa2",
   "metadata": {},
   "outputs": [],
   "source": [
    "bill = int(input('Please insert bill :'))\n",
    "hour = int(input('Please insert hour :'))\n",
    "minute = int(input('Please insert minute :'))\n",
    "if(minute > 0):\n",
    "    hour+=1\n",
    "if(bill>=1000):\n",
    "    fee = (hour - 4)*30\n",
    "elif(bill<1000):\n",
    "    fee = (hour - 1)*30\n",
    "print(fee)"
   ]
  },
  {
   "cell_type": "code",
   "execution_count": null,
   "id": "af4d783e",
   "metadata": {},
   "outputs": [],
   "source": [
    "bill = float(input('Please insert bill :'))\n",
    "if(bill>1000):\n",
    "    print('reduce product price ',bill-bill*(10/100))\n",
    "elif(bill>10000):\n",
    "    print('reduce product price ',bill-bill*(15/100))\n",
    "elif(bill>50000):\n",
    "    print('reduce product price ',bill-bill*(20/100))"
   ]
  },
  {
   "cell_type": "code",
   "execution_count": null,
   "id": "acc992a4",
   "metadata": {},
   "outputs": [],
   "source": [
    "gender = str(input('Please insert gender :'))\n",
    "weight = float(input('Please insert weight[kilogram] :'))\n",
    "height = int(input('Please insert height[centimeter] :'))\n",
    "if(gender == 'male'):\n",
    "    if weight > (height - 100):\n",
    "        print('you should exercises')\n",
    "    else:\n",
    "        print('you body is so good !!')\n",
    "if(gender == 'female'):\n",
    "    if weight > (height - 110):\n",
    "        print('you should exercises')\n",
    "    else:\n",
    "        print('you body is so good !!')"
   ]
  },
  {
   "cell_type": "code",
   "execution_count": null,
   "id": "2cc1781f",
   "metadata": {},
   "outputs": [],
   "source": [
    "velocity = float(input('Please insert velocity :'))\n",
    "if velocity > 120:\n",
    "    print('issuing a traffic offense ticket')\n",
    "else:\n",
    "    print('No process !!!')"
   ]
  },
  {
   "cell_type": "code",
   "execution_count": null,
   "id": "91537f76",
   "metadata": {},
   "outputs": [],
   "source": [
    "velocity = float(input('Please insert velocity :'))\n",
    "if velocity > 120:\n",
    "    print('Adjust price 1000 baht')\n",
    "elif velocity > 80 and velocity < 120:\n",
    "    print('Adjust price 500 baht')\n",
    "else:\n",
    "    print('No process !!!')"
   ]
  },
  {
   "cell_type": "code",
   "execution_count": 2,
   "id": "8ee943f6",
   "metadata": {},
   "outputs": [
    {
     "name": "stdout",
     "output_type": "stream",
     "text": [
      "Please input listen time :2\n",
      "Have fun listening to music\n"
     ]
    }
   ],
   "source": [
    "listen_time = float(input('Please input listen time :'))\n",
    "if listen_time > 4:\n",
    "    print('Ear damage')\n",
    "else:\n",
    "    print('Have fun listening to music')"
   ]
  },
  {
   "cell_type": "code",
   "execution_count": 4,
   "id": "8f994d09",
   "metadata": {},
   "outputs": [
    {
     "name": "stdout",
     "output_type": "stream",
     "text": [
      "Please insert status :dense\n",
      "Please input distance :45\n",
      "value of travel :  675.0\n"
     ]
    }
   ],
   "source": [
    "status = str(input('Please insert status :'))\n",
    "distance = float(input('Please input distance :'))\n",
    "if status == 'flexible':\n",
    "    print('value of travel : ',distance*10)\n",
    "elif status == 'moderate':\n",
    "    print('value of travel : ',distance*12)\n",
    "elif status == 'dense':\n",
    "    print('value of travel : ',distance*15)"
   ]
  },
  {
   "cell_type": "code",
   "execution_count": 5,
   "id": "1ea38b73",
   "metadata": {},
   "outputs": [
    {
     "name": "stdout",
     "output_type": "stream",
     "text": [
      "Please input score :56\n",
      "Student pass!!\n"
     ]
    }
   ],
   "source": [
    "score = int(input('Please input score :'))\n",
    "if score >= 50:\n",
    "    print('Student pass!!')\n",
    "else:\n",
    "    print('Student fail')"
   ]
  },
  {
   "cell_type": "code",
   "execution_count": 10,
   "id": "d8107bae",
   "metadata": {},
   "outputs": [
    {
     "name": "stdout",
     "output_type": "stream",
     "text": [
      "Please insert score :83\n",
      "Grade A\n"
     ]
    }
   ],
   "source": [
    "score = int(input('Please insert score : '))\n",
    "if score >= 80:\n",
    "    print('Grade A')\n",
    "elif score >= 70 and score < 80:\n",
    "    print('Grade B')\n",
    "elif score >= 60 and score < 70:\n",
    "    print('Grade C')\n",
    "elif score >= 50 and score < 60:\n",
    "    print('Grade D')\n",
    "else:\n",
    "    print('Grade F')"
   ]
  },
  {
   "cell_type": "code",
   "execution_count": null,
   "id": "3966ebc6",
   "metadata": {},
   "outputs": [],
   "source": [
    "isMember = str(input('Please input member : '))\n",
    "bill = float(input('Please input bill : '))\n",
    "if isMember == 'yes':\n",
    "    if bill >= 500:\n",
    "        print('you get a discount 5 %')\n",
    "    elif bill >= 1000:\n",
    "        print('you get a discount 10 %')\n",
    "    elif bill >= 5000:\n",
    "        print('you get a discount 15 %')\n",
    "else:\n",
    "    print(\"you don't have the member\")"
   ]
  },
  {
   "cell_type": "code",
   "execution_count": 12,
   "id": "c9cf02ca",
   "metadata": {},
   "outputs": [
    {
     "name": "stdout",
     "output_type": "stream",
     "text": [
      "Please insert currency : USD\n",
      "Please insert amount : 343\n",
      "result :  11147.5\n"
     ]
    }
   ],
   "source": [
    "currency = str(input('Please insert currency : '))\n",
    "amount = float(input('Please insert amount : '))\n",
    "if currency == 'USD':\n",
    "    THB = amount * 32.5\n",
    "elif currency == 'JPY':\n",
    "    THB = amount * 0.29\n",
    "print('result : ',THB)"
   ]
  },
  {
   "cell_type": "code",
   "execution_count": 14,
   "id": "9f69e645",
   "metadata": {},
   "outputs": [
    {
     "name": "stdout",
     "output_type": "stream",
     "text": [
      "Please input order : 76576\n",
      "Please input amount : 45454\n"
     ]
    }
   ],
   "source": [
    "order = str(input('Please input order : '))\n",
    "amount = int(input('Please input amount : '))\n",
    "if order == 'fried egg':\n",
    "    print('price : ',amount*7)\n",
    "elif order == 'omelet':\n",
    "    print('price : ',amount*10)\n",
    "elif order == 'boiled eggs':\n",
    "    print('price : ',amount*5)\n",
    "else:\n",
    "    print('else we have Fried egg , Omelet , Boiled eggs')"
   ]
  },
  {
   "cell_type": "code",
   "execution_count": 1,
   "id": "b400bd23",
   "metadata": {},
   "outputs": [
    {
     "name": "stdout",
     "output_type": "stream",
     "text": [
      "Please input order : omelet\n",
      "Recommended to order with son-in-law's eggs.\n"
     ]
    }
   ],
   "source": [
    "order = str(input('Please input order : '))\n",
    "if order == 'fried egg':\n",
    "    print('It is recommended to order together with soft boiled eggs.')\n",
    "elif order == 'omelet':\n",
    "    print(\"Recommended to order with son-in-law's eggs.\")\n",
    "elif order == 'boiled eggs':\n",
    "    print('Recommended to order with fried egg salad.')\n",
    "else:\n",
    "    print('Our shop has fried eggs, omelettes, boiled eggs.')"
   ]
  },
  {
   "cell_type": "code",
   "execution_count": null,
   "id": "79e4e69a",
   "metadata": {},
   "outputs": [],
   "source": []
  }
 ],
 "metadata": {
  "kernelspec": {
   "display_name": "Python 3 (ipykernel)",
   "language": "python",
   "name": "python3"
  },
  "language_info": {
   "codemirror_mode": {
    "name": "ipython",
    "version": 3
   },
   "file_extension": ".py",
   "mimetype": "text/x-python",
   "name": "python",
   "nbconvert_exporter": "python",
   "pygments_lexer": "ipython3",
   "version": "3.10.9"
  }
 },
 "nbformat": 4,
 "nbformat_minor": 5
}
