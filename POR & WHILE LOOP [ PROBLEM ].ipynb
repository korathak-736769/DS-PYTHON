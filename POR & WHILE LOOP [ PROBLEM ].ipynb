{
 "cells": [
  {
   "cell_type": "code",
   "execution_count": null,
   "id": "919dd944",
   "metadata": {},
   "outputs": [],
   "source": [
    "for i in range(20): \n",
    "    print(i,end=' ')"
   ]
  },
  {
   "cell_type": "code",
   "execution_count": null,
   "id": "b4ad2e01",
   "metadata": {},
   "outputs": [],
   "source": [
    "for i in range(19): \n",
    "    print(i,end=' ')"
   ]
  },
  {
   "cell_type": "code",
   "execution_count": null,
   "id": "1bf38e01",
   "metadata": {},
   "outputs": [],
   "source": [
    "for i in range(1,20,2): \n",
    "    print(i,end=' ')"
   ]
  },
  {
   "cell_type": "code",
   "execution_count": null,
   "id": "2e5482d8",
   "metadata": {},
   "outputs": [],
   "source": [
    "for i in range(19,0,-1): \n",
    "    print(i,end=' ')"
   ]
  },
  {
   "cell_type": "code",
   "execution_count": null,
   "id": "ac034579",
   "metadata": {},
   "outputs": [],
   "source": [
    "for i in range(18,-2,-2): \n",
    "    print(i,end=' ')"
   ]
  },
  {
   "cell_type": "code",
   "execution_count": null,
   "id": "7d6c2571",
   "metadata": {},
   "outputs": [],
   "source": [
    "for i in range(19,-1,-2):\n",
    "    print(i,end=' ')"
   ]
  },
  {
   "cell_type": "code",
   "execution_count": null,
   "id": "29c52146",
   "metadata": {},
   "outputs": [],
   "source": [
    "for i in range(-3,10,1):\n",
    "    print(i,end=' ')"
   ]
  },
  {
   "cell_type": "code",
   "execution_count": null,
   "id": "caf8a79f",
   "metadata": {},
   "outputs": [],
   "source": [
    "for i in range(-9,1,1):\n",
    "    print(i,end=' ')"
   ]
  },
  {
   "cell_type": "code",
   "execution_count": null,
   "id": "12940bc5",
   "metadata": {},
   "outputs": [],
   "source": [
    "for i in range(-5,-16,-1):\n",
    "    print(i,end=' ')"
   ]
  },
  {
   "cell_type": "code",
   "execution_count": null,
   "id": "4863d5a8",
   "metadata": {},
   "outputs": [],
   "source": [
    "for i in range(-5,-17,-2):\n",
    "    print(i,end=' ')"
   ]
  },
  {
   "cell_type": "code",
   "execution_count": null,
   "id": "472bf9f2",
   "metadata": {
    "scrolled": true
   },
   "outputs": [],
   "source": [
    "x = int(input('Please input number : '))\n",
    "i_sum = 0\n",
    "for i in range(1,x+1):\n",
    "    i_sum+=i\n",
    "print(i_sum,end=' ')"
   ]
  },
  {
   "cell_type": "code",
   "execution_count": null,
   "id": "0b750dcc",
   "metadata": {},
   "outputs": [],
   "source": [
    "x = int(input('Please input number : '))\n",
    "i_sum = 1\n",
    "for i in range(1,x+1):\n",
    "    i_sum*=i\n",
    "print(i_sum,end=' ')"
   ]
  },
  {
   "cell_type": "code",
   "execution_count": 7,
   "id": "81dca40c",
   "metadata": {},
   "outputs": [
    {
     "name": "stdout",
     "output_type": "stream",
     "text": [
      "Please input number : 2\n",
      "1.5 "
     ]
    }
   ],
   "source": [
    "x = int(input('Please input number : '))\n",
    "i_sum = 1/1\n",
    "for i in range(2,x+1):\n",
    "    i_sum = i_sum + (1/i)\n",
    "print(i_sum,end=' ')"
   ]
  },
  {
   "cell_type": "code",
   "execution_count": 9,
   "id": "15968a5a",
   "metadata": {},
   "outputs": [
    {
     "name": "stdout",
     "output_type": "stream",
     "text": [
      "Please input number : 2\n",
      "1.25 "
     ]
    }
   ],
   "source": [
    "x = int(input('Please input number : '))\n",
    "i_sum = 1/1\n",
    "for i in range(2,x+1):\n",
    "    i_sum = i_sum + (1/(i*i))\n",
    "print(i_sum,end=' ')"
   ]
  },
  {
   "cell_type": "code",
   "execution_count": 15,
   "id": "86748784",
   "metadata": {},
   "outputs": [
    {
     "name": "stdout",
     "output_type": "stream",
     "text": [
      "Please input number : 3\n",
      "2.8577380332470415 "
     ]
    }
   ],
   "source": [
    "x = int(input('Please input number : '))\n",
    "i_sum = 1/1\n",
    "for i in range(2,x+1):\n",
    "    i_sum = i_sum + (1/(i*i))\n",
    "i_sum = (6*i_sum)**(1/2)\n",
    "print(i_sum,end=' ')"
   ]
  }
 ],
 "metadata": {
  "kernelspec": {
   "display_name": "Python 3 (ipykernel)",
   "language": "python",
   "name": "python3"
  },
  "language_info": {
   "codemirror_mode": {
    "name": "ipython",
    "version": 3
   },
   "file_extension": ".py",
   "mimetype": "text/x-python",
   "name": "python",
   "nbconvert_exporter": "python",
   "pygments_lexer": "ipython3",
   "version": "3.10.9"
  }
 },
 "nbformat": 4,
 "nbformat_minor": 5
}
