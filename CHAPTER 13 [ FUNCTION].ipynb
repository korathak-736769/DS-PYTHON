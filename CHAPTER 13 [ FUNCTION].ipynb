{
 "cells": [
  {
   "cell_type": "markdown",
   "id": "7e8db022",
   "metadata": {},
   "source": [
    "### PROBLEM [ 1 ]"
   ]
  },
  {
   "cell_type": "code",
   "execution_count": null,
   "id": "05aec8f5",
   "metadata": {},
   "outputs": [],
   "source": [
    "def addition(a,b):\n",
    "    return a+b\n",
    "print(addition(5,10))"
   ]
  },
  {
   "cell_type": "markdown",
   "id": "430c5d6c",
   "metadata": {},
   "source": [
    "### PROBLEM [ 2 ]"
   ]
  },
  {
   "cell_type": "code",
   "execution_count": null,
   "id": "d2a23071",
   "metadata": {},
   "outputs": [],
   "source": [
    "def addition(a,b,c):\n",
    "    return a+b+c\n",
    "print(addition(5,10,23))"
   ]
  },
  {
   "cell_type": "markdown",
   "id": "96cc2bec",
   "metadata": {},
   "source": [
    "### PROBLEM [ 3 ]"
   ]
  },
  {
   "cell_type": "code",
   "execution_count": null,
   "id": "7cfc62b7",
   "metadata": {},
   "outputs": [],
   "source": [
    "def pow_wer(a):\n",
    "    return a**2\n",
    "print(pow_wer(2))"
   ]
  },
  {
   "cell_type": "markdown",
   "id": "ff3934f2",
   "metadata": {},
   "source": [
    "### PROBLEM [ 4 ]"
   ]
  },
  {
   "cell_type": "code",
   "execution_count": null,
   "id": "5daa7a49",
   "metadata": {},
   "outputs": [],
   "source": [
    "list_A = [1,2,3,4,5]\n",
    "list_new = []\n",
    "def pow_wer(list_A):\n",
    "    for items in list_A:\n",
    "        list_new.append(items**2)\n",
    "    return list_new\n",
    "print(pow_wer(list_A))"
   ]
  },
  {
   "cell_type": "markdown",
   "id": "f76b3318",
   "metadata": {},
   "source": [
    "### PROBLEM [ 5 ]"
   ]
  },
  {
   "cell_type": "code",
   "execution_count": null,
   "id": "14bff4f3",
   "metadata": {},
   "outputs": [],
   "source": [
    "def sumx_pow(listA):\n",
    "    sumx = 0\n",
    "    for items in list_A:\n",
    "        sumx+=(items**2)\n",
    "    return sumx\n",
    "print(sumx_pow([1,2,3,4,5]))"
   ]
  },
  {
   "cell_type": "markdown",
   "id": "f7643c49",
   "metadata": {},
   "source": [
    "### PROBLEM [ 6 ]"
   ]
  },
  {
   "cell_type": "code",
   "execution_count": null,
   "id": "595838bd",
   "metadata": {},
   "outputs": [],
   "source": [
    "list_num = [1,2,3,4,5]\n",
    "def summation(list_num):\n",
    "    sumx = 0\n",
    "    for num in list_num:\n",
    "        sumx += num\n",
    "    return sumx\n",
    "print(summation(list_num))"
   ]
  },
  {
   "cell_type": "markdown",
   "id": "a422f63d",
   "metadata": {},
   "source": [
    "### PROBLEM [ 7 ]"
   ]
  },
  {
   "cell_type": "code",
   "execution_count": null,
   "id": "def9faaf",
   "metadata": {},
   "outputs": [],
   "source": [
    "list_num = [1.5,2.2,3.8,4.6,5.9]\n",
    "def summation(list_num):\n",
    "    sumx = 0\n",
    "    for num in list_num:\n",
    "        sumx += num\n",
    "    return sumx\n",
    "print(summation(list_num))"
   ]
  },
  {
   "cell_type": "markdown",
   "id": "c45d0099",
   "metadata": {},
   "source": [
    "### PROBLEM [ 8 ]"
   ]
  },
  {
   "cell_type": "code",
   "execution_count": null,
   "id": "f37aad7d",
   "metadata": {},
   "outputs": [],
   "source": [
    "def add_string(str1,str2):\n",
    "    return str1+str2\n",
    "print(add_string(\"Computer\",\" Engineering\"))"
   ]
  },
  {
   "cell_type": "markdown",
   "id": "1261f1d6",
   "metadata": {},
   "source": [
    "### PROBLEM [ 9 ]"
   ]
  },
  {
   "cell_type": "code",
   "execution_count": null,
   "id": "a7c79802",
   "metadata": {},
   "outputs": [],
   "source": [
    "def add_string(str1,str2,str3):\n",
    "    return str1+str2+str3\n",
    "print(add_string(\"Computer\",\" Engineering\",\" Phisanulok\"))"
   ]
  },
  {
   "cell_type": "markdown",
   "id": "92d2f2dd",
   "metadata": {},
   "source": [
    "### PROBLEM [ 10 ]"
   ]
  },
  {
   "cell_type": "code",
   "execution_count": null,
   "id": "d27e0c28",
   "metadata": {
    "scrolled": true
   },
   "outputs": [],
   "source": [
    "def del_string(str1,str2):\n",
    "    return str1.replace(str2,'')\n",
    "print(del_string(\"onetwothree\",\"two\"))    "
   ]
  },
  {
   "cell_type": "markdown",
   "id": "95857d42",
   "metadata": {},
   "source": [
    "### PROBLEM [ 11 ]"
   ]
  },
  {
   "cell_type": "code",
   "execution_count": null,
   "id": "9b6d9975",
   "metadata": {
    "scrolled": true
   },
   "outputs": [],
   "source": [
    "def repeated_words(str1,k):\n",
    "    for word in range(int(k)):\n",
    "        str1 = \n",
    "    return str1\n",
    "print(repeated_words('one',3))"
   ]
  },
  {
   "cell_type": "markdown",
   "id": "b8578d74",
   "metadata": {},
   "source": [
    "### PROBLEM [ 12 ]"
   ]
  },
  {
   "cell_type": "code",
   "execution_count": null,
   "id": "c898e362",
   "metadata": {
    "scrolled": false
   },
   "outputs": [],
   "source": [
    "listA = \"Programing\"\n",
    "def leN(listA):\n",
    "    return len(listA)\n",
    "print(leN(listA))"
   ]
  },
  {
   "cell_type": "markdown",
   "id": "e29d0069",
   "metadata": {},
   "source": [
    "### PROBLEM [ 13 ]"
   ]
  },
  {
   "cell_type": "code",
   "execution_count": null,
   "id": "f88d9012",
   "metadata": {
    "scrolled": true
   },
   "outputs": [],
   "source": [
    "def Special_Symbol_Cut(str_ing):\n",
    "    special_symbol = '!@#$%'\n",
    "    for char in special_symbol:\n",
    "        str_ing = str_ing.replace(char,'')\n",
    "    return str_ing\n",
    "print(Special_Symbol_Cut(\"!#@Computer\"))"
   ]
  },
  {
   "cell_type": "markdown",
   "id": "58336386",
   "metadata": {},
   "source": [
    "### PROBLEM [ 14 ]"
   ]
  },
  {
   "cell_type": "code",
   "execution_count": null,
   "id": "9e0141b9",
   "metadata": {},
   "outputs": [],
   "source": [
    "def distance_2point(x1,x2):\n",
    "    return abs(x1-x2)\n",
    "print(distance_2point(5,8))"
   ]
  },
  {
   "cell_type": "markdown",
   "id": "e0384e93",
   "metadata": {},
   "source": [
    "### PROBLEM [ 15 ]"
   ]
  },
  {
   "cell_type": "code",
   "execution_count": null,
   "id": "57ba83ba",
   "metadata": {},
   "outputs": [],
   "source": [
    "def profit_sale(cogs,sale):\n",
    "    return sale-cogs\n",
    "print(\"The result is \",profit_sale(cogs=45,sale=90))"
   ]
  },
  {
   "cell_type": "markdown",
   "id": "d1f22fae",
   "metadata": {},
   "source": [
    "### PROBLEM [ 16 ]"
   ]
  },
  {
   "cell_type": "code",
   "execution_count": null,
   "id": "e18c145d",
   "metadata": {
    "scrolled": true
   },
   "outputs": [],
   "source": [
    "def discount(price,discount):\n",
    "    price -= price*(discount/100)\n",
    "    return price\n",
    "print(\"The price is \",discount(price=5600,discount=10))"
   ]
  },
  {
   "cell_type": "markdown",
   "id": "10c2a933",
   "metadata": {},
   "source": [
    "### PROBLEM [ 17 ]"
   ]
  },
  {
   "cell_type": "code",
   "execution_count": null,
   "id": "90c58bdf",
   "metadata": {},
   "outputs": [],
   "source": [
    "def frog_jump(d,s):\n",
    "    import math\n",
    "    return math.ceil(d/s)\n",
    "frog_jump(5.4,2)"
   ]
  },
  {
   "cell_type": "markdown",
   "id": "593cebb8",
   "metadata": {},
   "source": [
    "### PROBLEM [ 18 ]"
   ]
  },
  {
   "cell_type": "code",
   "execution_count": null,
   "id": "8eee4470",
   "metadata": {},
   "outputs": [],
   "source": [
    "def search(listA,k):\n",
    "    if k in listA:\n",
    "        index_list = []\n",
    "        for i in range(len(listA)):\n",
    "            if listA[i] == k:\n",
    "                index_list.append(i)\n",
    "        return index_list\n",
    "    else:\n",
    "        return -1\n",
    "search([2,64,23,12],12)"
   ]
  },
  {
   "cell_type": "markdown",
   "id": "684a3ec4",
   "metadata": {},
   "source": [
    "### PROBLEM [ 19 ]"
   ]
  },
  {
   "cell_type": "code",
   "execution_count": null,
   "id": "137cf23e",
   "metadata": {
    "scrolled": true
   },
   "outputs": [],
   "source": [
    "def changer_coin(amount):\n",
    "    dict_coin = {'10':0,'5':0,'2':0,'1':0}\n",
    "    for c in dict_coin.keys():\n",
    "        dict_coin[c] = amount//int(c)\n",
    "        amount = amount%int(c)\n",
    "    return dict_coin\n",
    "print(changer_coin(187))"
   ]
  },
  {
   "cell_type": "markdown",
   "id": "0c8f74de",
   "metadata": {},
   "source": [
    "### PROBLEM [ 20 ]"
   ]
  },
  {
   "cell_type": "code",
   "execution_count": null,
   "id": "182645bb",
   "metadata": {
    "scrolled": false
   },
   "outputs": [],
   "source": [
    "def accumulated_funds(PV,r,n):\n",
    "    FV = PV*(1+r/100)**n\n",
    "    return FV\n",
    "accumulated_funds(5000,15,3)"
   ]
  },
  {
   "cell_type": "markdown",
   "id": "52b10faf",
   "metadata": {},
   "source": [
    "### PROBLEM [ 21 ]"
   ]
  },
  {
   "cell_type": "code",
   "execution_count": null,
   "id": "94a1e51d",
   "metadata": {},
   "outputs": [],
   "source": [
    "def accumulated_funds(PV,FV,n):\n",
    "    result = 100*(((FV/PV)**1/n)-1)\n",
    "    return result\n",
    "accumulated_funds(10000,12000,1)"
   ]
  },
  {
   "cell_type": "markdown",
   "id": "9841fb84",
   "metadata": {},
   "source": [
    "### PROBLEM [ 22 ]"
   ]
  },
  {
   "cell_type": "code",
   "execution_count": null,
   "id": "e93cf3f4",
   "metadata": {},
   "outputs": [],
   "source": [
    "def Calculator(a,b,op):\n",
    "    if op == '+':\n",
    "        return a+b\n",
    "    elif op == '-':\n",
    "        return a-b\n",
    "    elif op == '*':\n",
    "        return a*b\n",
    "    elif op == '/':\n",
    "        return a/b\n",
    "Calculator(5,9,'+')"
   ]
  },
  {
   "cell_type": "markdown",
   "id": "791b41c1",
   "metadata": {},
   "source": [
    "### PROBLEM [ 23 ]"
   ]
  },
  {
   "cell_type": "code",
   "execution_count": null,
   "id": "060dd07c",
   "metadata": {},
   "outputs": [],
   "source": [
    "def hypotenuse(a,b):\n",
    "    return (a**2+b**2)**(1/2)\n",
    "hypotenuse(3,4)"
   ]
  },
  {
   "cell_type": "markdown",
   "id": "58f6f80c",
   "metadata": {},
   "source": [
    "### PROBLEM [ 24 ]"
   ]
  },
  {
   "cell_type": "code",
   "execution_count": null,
   "id": "b3970393",
   "metadata": {},
   "outputs": [],
   "source": [
    "def distace_2_dimension(x1,y1,x2,y2):\n",
    "    result = ((x1-x2)**2+(y1-y2)**2)**(1/2)\n",
    "    return result\n",
    "distace_2_dimension(3,4,6,8)"
   ]
  },
  {
   "cell_type": "markdown",
   "id": "b35e95be",
   "metadata": {},
   "source": [
    "### PROBLEM [ 25 ]"
   ]
  },
  {
   "cell_type": "code",
   "execution_count": null,
   "id": "0d30c01c",
   "metadata": {},
   "outputs": [],
   "source": [
    "def distance_Rn(P1,P2):\n",
    "    sum_square = 0\n",
    "    for i in range(len(P1)):\n",
    "        sum_square = sum_square + (P1[i] - P2[i])**2\n",
    "    distace = sum_square**(1/2)\n",
    "    return distace\n",
    "distance_Rn((1,2,2,1),(3,4,0,-1))"
   ]
  },
  {
   "cell_type": "markdown",
   "id": "26af1e41",
   "metadata": {},
   "source": [
    "### PROBLEM [ 26 ]"
   ]
  },
  {
   "cell_type": "code",
   "execution_count": null,
   "id": "09e9d334",
   "metadata": {
    "scrolled": true
   },
   "outputs": [],
   "source": [
    "def shift_right(listA,k):\n",
    "    k = k%len(listA)\n",
    "    return listA[-k:] + listA[:-k]\n",
    "shift_right([1,2,3,4,5],1)"
   ]
  },
  {
   "cell_type": "markdown",
   "id": "27f1a3a8",
   "metadata": {},
   "source": [
    "### PROBLEM [ 27 ]"
   ]
  },
  {
   "cell_type": "code",
   "execution_count": null,
   "id": "601722ca",
   "metadata": {},
   "outputs": [],
   "source": [
    "def shift_right(listA,k):\n",
    "    k = k%len(listA)\n",
    "    return listA[k:] + listA[:k]\n",
    "shift_right([1,2,3,4,5],1)"
   ]
  },
  {
   "cell_type": "markdown",
   "id": "fe8edc64",
   "metadata": {},
   "source": [
    "### PROBLEM [ 28 ]"
   ]
  },
  {
   "cell_type": "code",
   "execution_count": null,
   "id": "aaeb29b9",
   "metadata": {},
   "outputs": [],
   "source": [
    "def to_decimal(s,b):\n",
    "    converter = {'0':0,'1':1,'2':2,'3':3,'4':4,'5':5,\n",
    "                 '6':6,'7':7,'8':8,'9':9,'A':10,'B':11,\n",
    "                 'C':12,'D':13,'E':14,'F':15}\n",
    "    s = s[::-1].upper()\n",
    "    decimal = 0\n",
    "    for i in range(len(s)):\n",
    "        decimal = decimal + converter[s[i]]*b**(i)\n",
    "    return decimal \n",
    "\n",
    "to_decimal('23b',16)"
   ]
  },
  {
   "cell_type": "markdown",
   "id": "ea8453f8",
   "metadata": {},
   "source": [
    "### PROBLEM [ 29 ]"
   ]
  },
  {
   "cell_type": "code",
   "execution_count": null,
   "id": "b503742c",
   "metadata": {
    "scrolled": true
   },
   "outputs": [],
   "source": [
    "def to_binary(x):\n",
    "    import math\n",
    "    n_bit = math.floor(math.log(x,2))\n",
    "    binary = ''\n",
    "    for bit in range(n_bit,-1,-1):\n",
    "        s = x//int(2**bit)\n",
    "        binary = binary + str(s)\n",
    "        x = x - s*2**bit\n",
    "    return binary\n",
    "      \n",
    "to_binary(7)"
   ]
  },
  {
   "cell_type": "markdown",
   "id": "6c2132fb",
   "metadata": {},
   "source": [
    "### PROBLEM [ 30 ]"
   ]
  },
  {
   "cell_type": "code",
   "execution_count": null,
   "id": "68e1cb5c",
   "metadata": {},
   "outputs": [],
   "source": [
    "def to_hexadecimal(x):\n",
    "    converter = {0:'0',1:'1',2:'2',3:'3',4:'4',5:'5',\n",
    "                 6:'6',7:'7',8:'8',9:'9',10:'A',11:'B',\n",
    "                 12:'C',13:'D',14:'E',15:'F'}\n",
    "    import math\n",
    "    n_bit = math.floor(math.log(x,16))\n",
    "    hexa = ''\n",
    "    for bit in range(n_bit,-1,-1):\n",
    "        s = x//int(16**bit)\n",
    "        hexa = hexa + converter[s]\n",
    "        x = x - s*16**bit\n",
    "    return hexa\n",
    "\n",
    "to_hexadecimal(318)"
   ]
  },
  {
   "cell_type": "markdown",
   "id": "f8458309",
   "metadata": {},
   "source": [
    "### PROBLEM [ 31 ]"
   ]
  },
  {
   "cell_type": "code",
   "execution_count": null,
   "id": "82312e40",
   "metadata": {},
   "outputs": [],
   "source": [
    "def max_min(list_number):\n",
    "    compare_min = 99999999999999999\n",
    "    compare_max = -999999999999999\n",
    "    for i in list_number:\n",
    "        if i > compare_max:\n",
    "            num_max = i\n",
    "            compare_max = num_max\n",
    "    for i in list_number:\n",
    "        if i < compare_min:\n",
    "            num_min = i \n",
    "            compare_min = num_min\n",
    "    return num_max,num_min\n",
    "    \n",
    "max_min([3,45,67,231,1,45])"
   ]
  },
  {
   "cell_type": "markdown",
   "id": "0dcb802c",
   "metadata": {},
   "source": [
    "### PROBLEM [ 32 ]"
   ]
  },
  {
   "cell_type": "code",
   "execution_count": null,
   "id": "306e4338",
   "metadata": {},
   "outputs": [],
   "source": [
    "def find_mean_median_mode(listA):\n",
    "    import statistics\n",
    "    mean_A = statistics.mean(listA)\n",
    "    median_A =statistics.median(listA)\n",
    "    mode_A = statistics.mode(listA)\n",
    "    return mean_A,median_A,mode_A\n",
    "\n",
    "mean,median,mode = find_mean_median_mode([1,2,2,3,4])\n",
    "\n",
    "print('mean = ',mean)\n",
    "print('median = ',median)\n",
    "print('mode = ',mode)"
   ]
  },
  {
   "cell_type": "markdown",
   "id": "fb81a9c6",
   "metadata": {},
   "source": [
    "### PROBLEM [ 33 ]"
   ]
  },
  {
   "cell_type": "code",
   "execution_count": null,
   "id": "b5568e33",
   "metadata": {},
   "outputs": [],
   "source": [
    "def prime_number(num):\n",
    "    count = 0\n",
    "    if num > 1:\n",
    "        for i in range(num,0,-1):\n",
    "            if num%i == 0:\n",
    "                count +=1\n",
    "        if count == 2:\n",
    "            return num\n",
    "    elif num == 1:\n",
    "        return 1\n",
    "print('The Prime number is ',prime_number(5))"
   ]
  },
  {
   "cell_type": "markdown",
   "id": "707a9cc8",
   "metadata": {},
   "source": [
    "### PROBLEM [ 34 ]"
   ]
  },
  {
   "cell_type": "code",
   "execution_count": 15,
   "id": "9f7d1962",
   "metadata": {
    "scrolled": false
   },
   "outputs": [
    {
     "name": "stdout",
     "output_type": "stream",
     "text": [
      "Function [ multi_prime_number() ] =>  [True, True, False, True, False]\n",
      "Function [ isPrime_list()       ] =>  [True, True, False, True, False]\n"
     ]
    }
   ],
   "source": [
    "from sympy import *\n",
    "\n",
    "def multi_prime_number(item):\n",
    "    result_prime = []\n",
    "    for i in range(len(item)):\n",
    "        count = 0\n",
    "        if item[i] > 1:\n",
    "            for num in range(item[i],0,-1):\n",
    "                if item[i]%num == 0:\n",
    "                    count+=1\n",
    "            if count == 2:\n",
    "                result_prime.append(True)\n",
    "            elif count != 2:\n",
    "                result_prime.append(False)\n",
    "        elif item[i] == 1:\n",
    "            result_prime.append(True)\n",
    "    return result_prime\n",
    "\n",
    "def isPrime_list(listA):\n",
    "    result_lits = []\n",
    "    for a in listA:\n",
    "        result_lits.append(isprime(a))\n",
    "    return result_lits\n",
    "\n",
    "print(\"Function [ multi_prime_number() ] => \",multi_prime_number([2,3,6,13,4]))\n",
    "print(\"Function [ isPrime_list()       ] => \",isPrime_list([2,3,6,13,4]))"
   ]
  },
  {
   "cell_type": "markdown",
   "id": "fcc89753",
   "metadata": {},
   "source": [
    "### PROBLEM [ 35 ]"
   ]
  },
  {
   "cell_type": "code",
   "execution_count": 95,
   "id": "aafb2978",
   "metadata": {
    "scrolled": true
   },
   "outputs": [
    {
     "name": "stdout",
     "output_type": "stream",
     "text": [
      "x - - - - - x \n",
      "- x - - - x - \n",
      "- - x - x - - \n",
      "- - - x - - - \n",
      "- - x - x - - \n",
      "- x - - - x - \n",
      "x - - - - - x \n"
     ]
    }
   ],
   "source": [
    "def function_cross(n):\n",
    "    for i in range(n):\n",
    "        for j in range(n):\n",
    "            if i == j or (j+i+1) == n:\n",
    "                print('x',end=' ')\n",
    "            else:\n",
    "                print('-',end=' ')\n",
    "        print(end='\\n')\n",
    "function_cross(7)"
   ]
  },
  {
   "cell_type": "markdown",
   "id": "3e615170",
   "metadata": {},
   "source": [
    "### PROBLEM [ 36 ]"
   ]
  },
  {
   "cell_type": "code",
   "execution_count": 93,
   "id": "0432c082",
   "metadata": {},
   "outputs": [
    {
     "name": "stdout",
     "output_type": "stream",
     "text": [
      "- - - x - - - \n",
      "- - x - x - - \n",
      "- x - - - x - \n",
      "x - - - - - x \n",
      "- x - - - x - \n",
      "- - x - x - - \n",
      "- - - x - - - \n"
     ]
    }
   ],
   "source": [
    "def function_daimon(n):\n",
    "    for row in range(n):\n",
    "        for col in range(n):\n",
    "            if (row+col == 3) or (col-row == 3) or (row+col == 9) or (row-col == 3):\n",
    "                print('*',end=' ')\n",
    "            else:\n",
    "                print('-',end=' ')\n",
    "        print(end='\\n')\n",
    "        \n",
    "def draw_tree2(n):\n",
    "    if n%2 == 0:\n",
    "        for i in range(n-1):\n",
    "            for j in range(n):\n",
    "                if (j==abs(int((n-1)/2)-i)) or (j==n-1-abs(int((n-1)/2)-i)):\n",
    "                    print('x',end=' ')\n",
    "                else:\n",
    "                    print('-',end=' ')\n",
    "            print()\n",
    "    else:\n",
    "        for i in range(n):\n",
    "            for j in range(n):\n",
    "                if (j==abs((n-1)/2-i)) or (j==n-1-abs((n-1)/2-i)):\n",
    "                    print('x',end=' ')\n",
    "                else:\n",
    "                    print('-',end=' ')\n",
    "            print()\n",
    "                \n",
    "\n",
    "# function_daimon(7)\n",
    "draw_tree2(7)"
   ]
  },
  {
   "cell_type": "markdown",
   "id": "3fde3b01",
   "metadata": {},
   "source": [
    "### PROBLEM [ 37 ]"
   ]
  },
  {
   "cell_type": "code",
   "execution_count": 3,
   "id": "21c3b3fd",
   "metadata": {},
   "outputs": [
    {
     "name": "stdout",
     "output_type": "stream",
     "text": [
      "---x\n",
      "--xxx\n",
      "-xxxxx\n",
      "xxxxxxx\n"
     ]
    }
   ],
   "source": [
    "def triangle():\n",
    "    for i in range(4):\n",
    "        for j in range(4+i):\n",
    "            if j < 3-i:\n",
    "                print('-',end='')\n",
    "            else:\n",
    "                print('x',end='')\n",
    "        print()\n",
    "triangle()"
   ]
  },
  {
   "cell_type": "markdown",
   "id": "b78c16c3",
   "metadata": {},
   "source": [
    "### PROBLEM [ 38 ]"
   ]
  },
  {
   "cell_type": "code",
   "execution_count": 8,
   "id": "106fb82b",
   "metadata": {
    "scrolled": true
   },
   "outputs": [
    {
     "data": {
      "text/plain": [
       "([7, 9, 11], [6, 14, 24])"
      ]
     },
     "execution_count": 8,
     "metadata": {},
     "output_type": "execute_result"
    }
   ],
   "source": [
    "def Plus_multiply(list_A,list_B):\n",
    "    result_plus = []\n",
    "    result_multi = []\n",
    "    for i in range(len(list_A)):\n",
    "        result_plus.append(list_A[i]+list_B[i])\n",
    "        result_multi.append(list_A[i]*list_B[i])\n",
    "    return result_plus,result_multi\n",
    "\n",
    "Plus_multiply([1,2,3],[6,7,8])"
   ]
  },
  {
   "cell_type": "markdown",
   "id": "cd68860e",
   "metadata": {},
   "source": [
    "### PROBLEM [ 39 ]"
   ]
  },
  {
   "cell_type": "code",
   "execution_count": 1,
   "id": "ad37a48f",
   "metadata": {},
   "outputs": [
    {
     "data": {
      "text/plain": [
       "(dict_keys(['name', 'age']), dict_values(['John', 32]))"
      ]
     },
     "execution_count": 1,
     "metadata": {},
     "output_type": "execute_result"
    }
   ],
   "source": [
    "def dictionary_value_key(dict_A):\n",
    "    dict_key = dict_A.keys()\n",
    "    dict_value = dict_A.values()\n",
    "    return dict_key,dict_value\n",
    "dictionary_value_key({'name':'John','age':32})"
   ]
  },
  {
   "cell_type": "markdown",
   "id": "cdb90856",
   "metadata": {},
   "source": [
    "### PROBLEM [ 40 ]"
   ]
  },
  {
   "cell_type": "code",
   "execution_count": 2,
   "id": "28306caf",
   "metadata": {
    "scrolled": true
   },
   "outputs": [
    {
     "data": {
      "text/plain": [
       "[1, 3, 6, 10, 15]"
      ]
     },
     "execution_count": 2,
     "metadata": {},
     "output_type": "execute_result"
    }
   ],
   "source": [
    "def cumulative_sum(list_A):\n",
    "    cusum = 0\n",
    "    cusum_list = []\n",
    "    for i in range(len(list_A)):\n",
    "        cusum = cusum + list_A[i]\n",
    "        cusum_list.append(cusum)\n",
    "    return cusum_list\n",
    "\n",
    "cumulative_sum([1,2,3,4,5])"
   ]
  },
  {
   "cell_type": "markdown",
   "id": "c31d543a",
   "metadata": {},
   "source": [
    "### PROBLEM [ 41 ]"
   ]
  },
  {
   "cell_type": "code",
   "execution_count": 5,
   "id": "612bb7d6",
   "metadata": {},
   "outputs": [
    {
     "data": {
      "text/plain": [
       "True"
      ]
     },
     "execution_count": 5,
     "metadata": {},
     "output_type": "execute_result"
    }
   ],
   "source": [
    "def Pythagorean(a,b,c):\n",
    "    if (a**2+b**2 == c**2):\n",
    "        return True\n",
    "    else:\n",
    "        return False\n",
    "Pythagorean(3,4,5)"
   ]
  },
  {
   "cell_type": "markdown",
   "id": "b5671004",
   "metadata": {},
   "source": [
    "### PROBLEM [ 42 ]"
   ]
  },
  {
   "cell_type": "code",
   "execution_count": 15,
   "id": "64d1a4a6",
   "metadata": {},
   "outputs": [
    {
     "data": {
      "text/plain": [
       "'pROgRAM'"
      ]
     },
     "execution_count": 15,
     "metadata": {},
     "output_type": "execute_result"
    }
   ],
   "source": [
    "def change_word(word):\n",
    "    new_string = ''\n",
    "    for i in word:\n",
    "        if i.isupper():\n",
    "            new_string = new_string + i.lower()\n",
    "        else:\n",
    "            new_string = new_string + i.upper()\n",
    "    return new_string\n",
    "change_word(\"ProGram\")\n",
    "            "
   ]
  },
  {
   "cell_type": "markdown",
   "id": "77aca5b7",
   "metadata": {},
   "source": [
    "### PROBLEM [ 43 ]"
   ]
  },
  {
   "cell_type": "code",
   "execution_count": 17,
   "id": "d38d12c8",
   "metadata": {},
   "outputs": [
    {
     "data": {
      "text/plain": [
       "['n', 'me']"
      ]
     },
     "execution_count": 17,
     "metadata": {},
     "output_type": "execute_result"
    }
   ],
   "source": [
    "def delete_index(list_A,n):\n",
    "    for word in list_A:\n",
    "        if len(word) > n:\n",
    "            list_A.remove(word)\n",
    "    return list_A\n",
    "        \n",
    "delete_index(['name','n','me'],3)"
   ]
  },
  {
   "cell_type": "markdown",
   "id": "fd39797c",
   "metadata": {},
   "source": [
    "### PROBLEM [ 44 ]"
   ]
  },
  {
   "cell_type": "code",
   "execution_count": 18,
   "id": "f5da2cbb",
   "metadata": {},
   "outputs": [
    {
     "data": {
      "text/plain": [
       "[3, 0, 3, 0]"
      ]
     },
     "execution_count": 18,
     "metadata": {},
     "output_type": "execute_result"
    }
   ],
   "source": [
    "def derivative(list_A):\n",
    "    n = len(list_A)\n",
    "    diff = [0]*n\n",
    "    for i in range(1,n):\n",
    "        diff[i-1] = list_A[i]*i\n",
    "    return diff\n",
    "\n",
    "derivative([2,3,0,1])"
   ]
  },
  {
   "cell_type": "markdown",
   "id": "26beac3c",
   "metadata": {},
   "source": [
    "### PROBLEM [ 45 ]"
   ]
  },
  {
   "cell_type": "code",
   "execution_count": 19,
   "id": "3f632337",
   "metadata": {},
   "outputs": [
    {
     "data": {
      "text/plain": [
       "[[1, 2, 3], [4, 5, 6], [7, 8, 9], [10, 11, 12]]"
      ]
     },
     "execution_count": 19,
     "metadata": {},
     "output_type": "execute_result"
    }
   ],
   "source": [
    "def reshape(listA,dim):\n",
    "    old_n = len(listA)\n",
    "    new_n = dim[0]*dim[1]\n",
    "    matrix_A = []\n",
    "    if old_n == new_n:\n",
    "        row = dim[0]\n",
    "        col = dim[1]\n",
    "        for i in range(row):\n",
    "            matrix_A.append(listA[i*col:(i+1)*col])\n",
    "        return matrix_A\n",
    "    else:\n",
    "        print('invalid dimension')\n",
    "        \n",
    "reshape([i for i in range(1,13,1)],(4,3))"
   ]
  }
 ],
 "metadata": {
  "kernelspec": {
   "display_name": "Python 3 (ipykernel)",
   "language": "python",
   "name": "python3"
  },
  "language_info": {
   "codemirror_mode": {
    "name": "ipython",
    "version": 3
   },
   "file_extension": ".py",
   "mimetype": "text/x-python",
   "name": "python",
   "nbconvert_exporter": "python",
   "pygments_lexer": "ipython3",
   "version": "3.10.9"
  }
 },
 "nbformat": 4,
 "nbformat_minor": 5
}
