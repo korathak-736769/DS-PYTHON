{
 "cells": [
  {
   "cell_type": "markdown",
   "id": "0d5f9557",
   "metadata": {},
   "source": [
    "### Try...Except"
   ]
  },
  {
   "cell_type": "code",
   "execution_count": null,
   "id": "9b6eb182",
   "metadata": {},
   "outputs": [],
   "source": [
    "def division():\n",
    "        num_1 = int(input(\"Please input the numberic_01 : \"))\n",
    "        num_2 = int(input(\"Please input the numberic_02 : \"))\n",
    "        result = num_1 / num_2\n",
    "        print(\"The result is \",result)\n",
    "try:\n",
    "    division()\n",
    "except:\n",
    "    print(\"The Program is Error!!!\")"
   ]
  },
  {
   "cell_type": "markdown",
   "id": "7735093b",
   "metadata": {},
   "source": [
    "### Try...Exception [ multiple events ]"
   ]
  },
  {
   "cell_type": "code",
   "execution_count": null,
   "id": "e9740fa8",
   "metadata": {},
   "outputs": [],
   "source": [
    "def division():\n",
    "        num_1 = int(input(\"Please input the numberic_01 : \"))\n",
    "        num_2 = int(input(\"Please input the numberic_02 : \"))\n",
    "        result = num_1 / num_2\n",
    "        print(\"The result is \",result)\n",
    "try:\n",
    "    division()\n",
    "except TypeError:\n",
    "    print(\"data type mismatch!!!\")\n",
    "except ValueError:\n",
    "    print(\"Please enter only numbers!!\")\n",
    "except ZeroDivisionError:\n",
    "    print(\"Do not divide by 0.!!\")"
   ]
  },
  {
   "cell_type": "markdown",
   "id": "5189fc29",
   "metadata": {},
   "source": [
    "### [ Short ] Exception reduction writing"
   ]
  },
  {
   "cell_type": "code",
   "execution_count": null,
   "id": "5d01801f",
   "metadata": {
    "scrolled": true
   },
   "outputs": [],
   "source": [
    "def division():\n",
    "        num_1 = int(input(\"Please input the numberic_01 : \"))\n",
    "        num_2 = int(input(\"Please input the numberic_02 : \"))\n",
    "        result = num_1 / num_2\n",
    "        print(\"The result is \",result)\n",
    "try:\n",
    "    division()\n",
    "except Exception as e:\n",
    "    print(e)"
   ]
  },
  {
   "cell_type": "markdown",
   "id": "c1a17539",
   "metadata": {},
   "source": [
    "### Try_Exception [ else ]"
   ]
  },
  {
   "cell_type": "code",
   "execution_count": null,
   "id": "f36de6d6",
   "metadata": {
    "scrolled": false
   },
   "outputs": [],
   "source": [
    "def division():\n",
    "        num_1 = int(input(\"Please input the numberic_01 : \"))\n",
    "        num_2 = int(input(\"Please input the numberic_02 : \"))\n",
    "        result = num_1 / num_2\n",
    "        print(\"The result is \",result)\n",
    "try:\n",
    "    division()\n",
    "except Exception as e:\n",
    "    print(e)\n",
    "else: #else runing when 'try' runing\n",
    "    print(\"Complete the division!\")"
   ]
  },
  {
   "cell_type": "markdown",
   "id": "ab9c70a5",
   "metadata": {},
   "source": [
    "### Finally"
   ]
  },
  {
   "cell_type": "code",
   "execution_count": null,
   "id": "421efe6f",
   "metadata": {},
   "outputs": [],
   "source": [
    "def division():\n",
    "        num_1 = int(input(\"Please input the numberic_01 : \"))\n",
    "        num_2 = int(input(\"Please input the numberic_02 : \"))\n",
    "        result = num_1 / num_2\n",
    "        print(\"The result is \",result)\n",
    "try:\n",
    "    division()\n",
    "except Exception as e:\n",
    "    print(e)\n",
    "finally: # the finally runing when 'try' is true or false\n",
    "    print(\"Loading.......\")"
   ]
  },
  {
   "cell_type": "markdown",
   "id": "7063eca6",
   "metadata": {},
   "source": [
    "### TRY , EXCEPTION , FINALLY + WHILE"
   ]
  },
  {
   "cell_type": "code",
   "execution_count": null,
   "id": "80fefd8e",
   "metadata": {},
   "outputs": [],
   "source": [
    "def division():\n",
    "        num_1 = int(input(\"Please input the numberic_01 : \"))\n",
    "        num_2 = int(input(\"Please input the numberic_02 : \"))\n",
    "        result = num_1 / num_2\n",
    "        print(\"The result is \",result)\n",
    "while True:\n",
    "    try:\n",
    "        division()\n",
    "    except Exception as e:\n",
    "        print(e)\n",
    "    finally:\n",
    "        print(\"Loading.......\")\n",
    "    choice = str(input(\"Want to continue using the program? [Y/N]\"))\n",
    "    if choice == 'Y' or choice =='y':\n",
    "        pass\n",
    "    else:\n",
    "        break"
   ]
  },
  {
   "cell_type": "markdown",
   "id": "7b2975bd",
   "metadata": {},
   "source": [
    "### Create Exception by  Raise"
   ]
  },
  {
   "cell_type": "code",
   "execution_count": null,
   "id": "ce82487e",
   "metadata": {},
   "outputs": [],
   "source": [
    "while True:\n",
    "    try:\n",
    "        name = str(input(\"Please input the username :\"))\n",
    "        if name == 'Korathank':\n",
    "            raise Exception(\"This username is already in the system.\")\n",
    "        num_1 = int(input(\"Please input the numberic_01 : \"))\n",
    "        num_2 = int(input(\"Please input the numberic_02 : \"))\n",
    "        if num_1 == 0 and num_2 == 0:\n",
    "            break\n",
    "        if (num_1 and num_2) < 0:\n",
    "            raise Exception(\"You can't input the nagative numberic!!\")\n",
    "        result = num_1 / num_2\n",
    "        print(\"The result is \",result)\n",
    "    except Exception as e:\n",
    "        print(e)\n",
    "    else: #else runing when 'try' runing\n",
    "        print(\"Complete the division!\")"
   ]
  },
  {
   "attachments": {},
   "cell_type": "markdown",
   "id": "b421d535",
   "metadata": {},
   "source": [
    "##### Bank Accounting Software"
   ]
  },
  {
   "cell_type": "code",
   "execution_count": null,
   "id": "f51f8b27",
   "metadata": {},
   "outputs": [],
   "source": [
    "import os\n",
    "from time import sleep\n",
    "acount = {'John':5000,'Thomas':0}\n",
    "def Show_Balance():\n",
    "    print(\"account balance  :\",acount)\n",
    "def deposit():\n",
    "    Show_Balance()\n",
    "    choice = str(input(\"Please enter the name of the person who wants to deposit : \"))\n",
    "    if choice in acount.keys():\n",
    "        money = int(input(\"Please your enter the money : \"))\n",
    "        acount[choice]+=money\n",
    "        Show_Balance()\n",
    "    else:\n",
    "        print(\"This account does not exist in our bank.\")\n",
    "        \n",
    "def Withdrawal():\n",
    "    Show_Balance()\n",
    "    choice = str(input(\"Please enter the name of the person who wants to Withdrawal : \"))\n",
    "    if choice in acount.keys():\n",
    "        money = int(input(\"Please your enter the money : \"))\n",
    "        acount[choice]-=money\n",
    "        Show_Balance()\n",
    "    else:\n",
    "        print(\"This account does not exist in our bank.\")\n",
    "def Money_Transfer():\n",
    "   source_account = str(input(\"Please enter the source account name : \"))\n",
    "   if source_account in acount.keys():\n",
    "       print(\"Money in \",source_account,\" account : \",acount[source_account])\n",
    "       money = int(input(\"Please enter the money :\"))\n",
    "       if money > acount[source_account]:\n",
    "           print(\"The amount in your account is insufficient, please try again.\")\n",
    "       else:\n",
    "            destination_account= str(input(\"Please enter the name of the destination account : \"))\n",
    "            acount[source_account]-=money\n",
    "            acount[destination_account]+=money\n",
    "            print(\"complete the money transfer !!!\")\n",
    "            print(\"The Update status account banker :\")\n",
    "            Show_Balance()\n",
    "def create_account():\n",
    "    name_account = str(input(\"Please your enter the username : \"))\n",
    "    acount.update({name_account:0})\n",
    "    Show_Balance()\n",
    "# Main Program \n",
    "while True:\n",
    "    print(\"---------------------------------------\")\n",
    "    print(\"Welcome to Bank Accounting Software\")\n",
    "    print(\"The Status in Banker :\")\n",
    "    Show_Balance()\n",
    "    print(\"[1] Create Account\")\n",
    "    print(\"[2] Show account status in current bank\")\n",
    "    print(\"[3] Deposit\")\n",
    "    print(\"[4] Withdrawal\")\n",
    "    print(\"[5] Money_Transfer\")\n",
    "    choice = int(input(\"Please your input select choice :\"))\n",
    "    print(\"---------------------------------------\")\n",
    "\n",
    "    match choice:\n",
    "        case 1:\n",
    "            create_account()\n",
    "        case 2:\n",
    "            Show_Balance()\n",
    "        case 3:\n",
    "            deposit()\n",
    "        case 4:\n",
    "            Withdrawal()\n",
    "        case 5:\n",
    "            Money_Transfer()\n",
    "        case _:\n",
    "            print(\"Please your input choice angin !! \")\n",
    "            \n",
    "    print(\"Do you want to continue?\")\n",
    "    cont_inue = str(input(\"Please enter the choice [Y/N] :\"))\n",
    "    if cont_inue == 'Y' or cont_inue == 'y':\n",
    "        os.system('cls')\n",
    "        pass\n",
    "    elif cont_inue == 'N' or cont_inue == 'n':\n",
    "        print(\"Thank you for using our program.\")\n",
    "        break"
   ]
  }
 ],
 "metadata": {
  "kernelspec": {
   "display_name": "Python 3 (ipykernel)",
   "language": "python",
   "name": "python3"
  },
  "language_info": {
   "codemirror_mode": {
    "name": "ipython",
    "version": 3
   },
   "file_extension": ".py",
   "mimetype": "text/x-python",
   "name": "python",
   "nbconvert_exporter": "python",
   "pygments_lexer": "ipython3",
   "version": "3.10.9"
  }
 },
 "nbformat": 4,
 "nbformat_minor": 5
}
