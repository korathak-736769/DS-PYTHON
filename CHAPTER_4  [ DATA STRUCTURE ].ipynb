{
 "cells": [
  {
   "cell_type": "markdown",
   "id": "fc88c599",
   "metadata": {},
   "source": [
    "# Chapter 4 [ Data Structure ]"
   ]
  },
  {
   "cell_type": "markdown",
   "id": "0ed397fc",
   "metadata": {},
   "source": [
    "# Numberic"
   ]
  },
  {
   "cell_type": "code",
   "execution_count": null,
   "id": "56737c67",
   "metadata": {},
   "outputs": [],
   "source": [
    "# type()\n",
    "numberic1 = 5\n",
    "print(type(numberic1))\n",
    "numberic1"
   ]
  },
  {
   "cell_type": "code",
   "execution_count": null,
   "id": "6af18ad1",
   "metadata": {},
   "outputs": [],
   "source": [
    "numberic2 = -3\n",
    "print(type(numberic2))\n",
    "numberic2"
   ]
  },
  {
   "cell_type": "code",
   "execution_count": null,
   "id": "aa6f72db",
   "metadata": {},
   "outputs": [],
   "source": [
    "numberic3 = 0\n",
    "print(type(numberic3))\n",
    "numberic3"
   ]
  },
  {
   "cell_type": "code",
   "execution_count": null,
   "id": "4bda8bb4",
   "metadata": {},
   "outputs": [],
   "source": [
    "x = input('Please input number :')\n",
    "print(x,type(x))"
   ]
  },
  {
   "cell_type": "code",
   "execution_count": null,
   "id": "ec9da078",
   "metadata": {},
   "outputs": [],
   "source": [
    "numberic1 = 5.0\n",
    "print(numberic1,type(numberic1))"
   ]
  },
  {
   "cell_type": "code",
   "execution_count": null,
   "id": "20481bac",
   "metadata": {},
   "outputs": [],
   "source": [
    "numberic2 = -3.1\n",
    "print(numberic2,type(numberic2))"
   ]
  },
  {
   "cell_type": "code",
   "execution_count": null,
   "id": "f0e0f5d0",
   "metadata": {
    "scrolled": true
   },
   "outputs": [],
   "source": [
    "numberic3 = 0.0\n",
    "print(numberic3,type(numberic3))"
   ]
  },
  {
   "cell_type": "code",
   "execution_count": null,
   "id": "19ba6c64",
   "metadata": {},
   "outputs": [],
   "source": [
    "number = float(input('Please input number :'))\n",
    "print(number,type(number))"
   ]
  },
  {
   "cell_type": "code",
   "execution_count": null,
   "id": "0c7f63a8",
   "metadata": {
    "scrolled": true
   },
   "outputs": [],
   "source": [
    "int1 = int(input('Please input number :'))\n",
    "int2 = int(input('Please input number :'))\n",
    "print(int1+int2,type(int1+int2))\n",
    "print(int1-int2,type(int1-int2))\n",
    "print(int1*int2,type(int1*int2))\n",
    "print(int1/int2,type(int1/int2))"
   ]
  },
  {
   "cell_type": "code",
   "execution_count": null,
   "id": "84de5e32",
   "metadata": {},
   "outputs": [],
   "source": [
    "float1 = float(input('Please input number :'))\n",
    "float2 = float(input('Please input number :'))\n",
    "print(float1+float2,type(float1+float2))\n",
    "print(float1-float2,type(float1-float2))\n",
    "print(float1*float2,type(float1*float2))\n",
    "print(float1/float2,type(float1/float2))"
   ]
  },
  {
   "cell_type": "code",
   "execution_count": null,
   "id": "e9d341e3",
   "metadata": {
    "scrolled": true
   },
   "outputs": [],
   "source": [
    "float1 = float(input('Please input number :'))\n",
    "int2 = int(input('Please input number :'))\n",
    "print(float1+int2,type(float1+int2))\n",
    "print(float1-int2,type(float1-int2))\n",
    "print(float1*int2,type(float1*int2))\n",
    "print(float1/int2,type(float1/int2))"
   ]
  },
  {
   "cell_type": "code",
   "execution_count": null,
   "id": "88c365b6",
   "metadata": {},
   "outputs": [],
   "source": [
    "logic1 = True \n",
    "print(logic1,type(logic1))"
   ]
  },
  {
   "cell_type": "code",
   "execution_count": null,
   "id": "ea37e507",
   "metadata": {},
   "outputs": [],
   "source": [
    "logic1 = False\n",
    "print(logic1,type(logic1))"
   ]
  },
  {
   "cell_type": "code",
   "execution_count": null,
   "id": "bd52c624",
   "metadata": {},
   "outputs": [],
   "source": [
    "logic1 = True\n",
    "logic2 = False\n",
    "print(logic1 and logic2)"
   ]
  },
  {
   "cell_type": "code",
   "execution_count": null,
   "id": "cf2b22dc",
   "metadata": {},
   "outputs": [],
   "source": [
    "logic1 = True\n",
    "logic2 = False\n",
    "print(logic1 or logic2)"
   ]
  },
  {
   "cell_type": "code",
   "execution_count": null,
   "id": "6cf92839",
   "metadata": {},
   "outputs": [],
   "source": [
    "complex1 = 1 + 2j\n",
    "print(complex1,type(complex1))"
   ]
  },
  {
   "cell_type": "code",
   "execution_count": null,
   "id": "00121907",
   "metadata": {},
   "outputs": [],
   "source": [
    "complex1 = 1 + 2j\n",
    "print(complex1.real) #show real number"
   ]
  },
  {
   "cell_type": "code",
   "execution_count": null,
   "id": "23f7fec5",
   "metadata": {},
   "outputs": [],
   "source": [
    "complex1 = 1 + 2j\n",
    "print(complex1.imag) #show imagin number"
   ]
  },
  {
   "cell_type": "markdown",
   "id": "c96aff2c",
   "metadata": {},
   "source": [
    "# String"
   ]
  },
  {
   "cell_type": "code",
   "execution_count": null,
   "id": "998180e8",
   "metadata": {},
   "outputs": [],
   "source": [
    "string1 = 'Python'\n",
    "print(string1,type(string1))"
   ]
  },
  {
   "cell_type": "code",
   "execution_count": null,
   "id": "8d0452df",
   "metadata": {
    "scrolled": true
   },
   "outputs": [],
   "source": [
    "string1 = 'Python'\n",
    "print(string1[0])"
   ]
  },
  {
   "cell_type": "code",
   "execution_count": null,
   "id": "fbac64cd",
   "metadata": {},
   "outputs": [],
   "source": [
    "string1 = 'Python'\n",
    "print(string1[1])"
   ]
  },
  {
   "cell_type": "code",
   "execution_count": null,
   "id": "b6ea3329",
   "metadata": {},
   "outputs": [],
   "source": [
    "string1 = 'Python'\n",
    "print(string1[-1])"
   ]
  },
  {
   "cell_type": "code",
   "execution_count": null,
   "id": "fdcee3da",
   "metadata": {},
   "outputs": [],
   "source": [
    "string1 = 'Python'\n",
    "print(string1[-2])"
   ]
  },
  {
   "cell_type": "code",
   "execution_count": null,
   "id": "385ce1e8",
   "metadata": {},
   "outputs": [],
   "source": [
    "string1 = 'Python'\n",
    "print(string1[2])"
   ]
  },
  {
   "cell_type": "code",
   "execution_count": null,
   "id": "cce20ae5",
   "metadata": {
    "scrolled": true
   },
   "outputs": [],
   "source": [
    "string1 = 'Python'\n",
    "print(string1[3])"
   ]
  },
  {
   "cell_type": "code",
   "execution_count": null,
   "id": "142fdd31",
   "metadata": {},
   "outputs": [],
   "source": [
    "string1 = 'Python'\n",
    "print(string1[1:3])"
   ]
  },
  {
   "cell_type": "code",
   "execution_count": null,
   "id": "98d0bc02",
   "metadata": {},
   "outputs": [],
   "source": [
    "string1 = 'Python'\n",
    "print(string1[2:-2])"
   ]
  },
  {
   "cell_type": "code",
   "execution_count": null,
   "id": "df9f566f",
   "metadata": {},
   "outputs": [],
   "source": [
    "string1 = 'Python'\n",
    "print(string1[2:-1])"
   ]
  },
  {
   "cell_type": "code",
   "execution_count": null,
   "id": "851109e9",
   "metadata": {},
   "outputs": [],
   "source": [
    "string1 = 'Python'\n",
    "print(string1[-4:4])"
   ]
  },
  {
   "cell_type": "code",
   "execution_count": null,
   "id": "4b7a4c3b",
   "metadata": {},
   "outputs": [],
   "source": [
    "string1 = 'Python'\n",
    "print(string1[-6:4])"
   ]
  },
  {
   "cell_type": "code",
   "execution_count": null,
   "id": "91d16d71",
   "metadata": {},
   "outputs": [],
   "source": [
    "string1 = 'Python'\n",
    "print(string1[-4:-2])"
   ]
  },
  {
   "cell_type": "code",
   "execution_count": null,
   "id": "92a8faa8",
   "metadata": {},
   "outputs": [],
   "source": [
    "#len(string variable)\n",
    "string = input('Please your input sentence :')\n",
    "print(len(string)) # count len in sentence"
   ]
  },
  {
   "cell_type": "code",
   "execution_count": null,
   "id": "2824a862",
   "metadata": {},
   "outputs": [],
   "source": [
    "string = input('Please your input sentence :')\n",
    "print('P' in string) # check 'P' in centence [ return True or False ]"
   ]
  },
  {
   "cell_type": "code",
   "execution_count": null,
   "id": "36babe51",
   "metadata": {},
   "outputs": [],
   "source": [
    "string1 = input('Please your input sentence :')\n",
    "string2 = input('Please your input sentence :')\n",
    "print(string2 in string1) "
   ]
  },
  {
   "cell_type": "code",
   "execution_count": null,
   "id": "dbd28f4e",
   "metadata": {},
   "outputs": [],
   "source": [
    "#replace(value primitive , value replace)\n",
    "string = input('Please your input sentence :')\n",
    "print(string.replace('a','A')) # replace word "
   ]
  },
  {
   "cell_type": "code",
   "execution_count": null,
   "id": "26e9bbfc",
   "metadata": {},
   "outputs": [],
   "source": [
    "string = input('Please your input sentence :')\n",
    "string2 = string.replace('a','A')\n",
    "string2"
   ]
  },
  {
   "cell_type": "code",
   "execution_count": null,
   "id": "128cc939",
   "metadata": {},
   "outputs": [],
   "source": [
    "#split(value)\n",
    "string = input('Please your input sentence :')\n",
    "print(string.split(' ')) #cut word"
   ]
  },
  {
   "cell_type": "code",
   "execution_count": null,
   "id": "59927431",
   "metadata": {},
   "outputs": [],
   "source": [
    "string = input('Please your input sentence :')\n",
    "c = '-'\n",
    "print(string.split(c))"
   ]
  },
  {
   "cell_type": "code",
   "execution_count": null,
   "id": "0edf3f42",
   "metadata": {},
   "outputs": [],
   "source": [
    "str1 = input('Please input sentence : ')\n",
    "str2 = input('Please input sentence : ')\n",
    "print(str1+str2)"
   ]
  },
  {
   "cell_type": "markdown",
   "id": "95643458",
   "metadata": {},
   "source": [
    "# List"
   ]
  },
  {
   "cell_type": "code",
   "execution_count": null,
   "id": "522e1c78",
   "metadata": {},
   "outputs": [],
   "source": [
    "_list = [0,1,2,'a','b','c']\n",
    "print(_list,type(_list))"
   ]
  },
  {
   "cell_type": "code",
   "execution_count": null,
   "id": "e3a2820f",
   "metadata": {},
   "outputs": [],
   "source": [
    "list1 = [0,1,2,'a','b','c']\n",
    "print(list1[2])"
   ]
  },
  {
   "cell_type": "code",
   "execution_count": null,
   "id": "e132355b",
   "metadata": {},
   "outputs": [],
   "source": [
    "list1 = [0,1,2,'a','b','c']\n",
    "list1[-3]"
   ]
  },
  {
   "cell_type": "code",
   "execution_count": null,
   "id": "c77bb01b",
   "metadata": {},
   "outputs": [],
   "source": [
    "list1 = [0,1,2,'a','b','c']\n",
    "list1[0]"
   ]
  },
  {
   "cell_type": "code",
   "execution_count": null,
   "id": "97d7e6f5",
   "metadata": {},
   "outputs": [],
   "source": [
    "list1 = [0,1,2,'a','b','c']\n",
    "list1[-2]"
   ]
  },
  {
   "cell_type": "code",
   "execution_count": null,
   "id": "2fc93804",
   "metadata": {},
   "outputs": [],
   "source": [
    "list1 = [0,1,2,'a','b','c']\n",
    "print(list1[2:4])"
   ]
  },
  {
   "cell_type": "code",
   "execution_count": null,
   "id": "46d39a9d",
   "metadata": {},
   "outputs": [],
   "source": [
    "list1 = [0,1,2,'a','b','c']\n",
    "print(list1[1:-1])"
   ]
  },
  {
   "cell_type": "code",
   "execution_count": null,
   "id": "6d2f0c11",
   "metadata": {},
   "outputs": [],
   "source": [
    "list1 = [0,1,2,'a','b','c']\n",
    "print(list1[0:5])"
   ]
  },
  {
   "cell_type": "code",
   "execution_count": null,
   "id": "1b6525e6",
   "metadata": {},
   "outputs": [],
   "source": [
    "list1 = [0,1,2,'a','b','c']\n",
    "print(list1[3:7])"
   ]
  },
  {
   "cell_type": "code",
   "execution_count": null,
   "id": "4964e53e",
   "metadata": {},
   "outputs": [],
   "source": [
    "list1 = [0,1,2,'a','b','c']\n",
    "print(list1[0:3])"
   ]
  },
  {
   "cell_type": "code",
   "execution_count": null,
   "id": "f13f6822",
   "metadata": {},
   "outputs": [],
   "source": [
    "list2 = ['ant','bird','cat','dog','eagle']\n",
    "list2[3] = 'duck'\n",
    "print(list2)"
   ]
  },
  {
   "cell_type": "code",
   "execution_count": null,
   "id": "5e557726",
   "metadata": {},
   "outputs": [],
   "source": [
    "list2 = ['ant','bird','cat','dog','eagle']\n",
    "list2[0] = 'ape'\n",
    "print(list2)"
   ]
  },
  {
   "cell_type": "code",
   "execution_count": null,
   "id": "da52147f",
   "metadata": {},
   "outputs": [],
   "source": [
    "#append(value)\n",
    "list2 = ['ant','bird','cat','dog','eagle']\n",
    "list2.append('fish') # insert word in list \n",
    "print(list2)"
   ]
  },
  {
   "cell_type": "code",
   "execution_count": null,
   "id": "244066d3",
   "metadata": {},
   "outputs": [],
   "source": [
    "emply_list = []\n",
    "str1 = input('Please insert first element :')\n",
    "str2 = input('Please insert second element :')\n",
    "str3 = input('Please insert third element :')\n",
    "emply_list.append(str1)\n",
    "emply_list.append(str2)\n",
    "emply_list.append(str3)\n",
    "print(emply_list)"
   ]
  },
  {
   "cell_type": "code",
   "execution_count": null,
   "id": "cc0106f7",
   "metadata": {},
   "outputs": [],
   "source": [
    "#insert(index,value)\n",
    "list3 = ['apple','cherry','eggfruit']\n",
    "list3.insert(-2,'kiwi') #insert string between index\n",
    "print(list3)"
   ]
  },
  {
   "cell_type": "code",
   "execution_count": null,
   "id": "60be7868",
   "metadata": {},
   "outputs": [],
   "source": [
    "# variable.sort()\n",
    "list4 = [0,4,2,3,1]\n",
    "list4.sort() #Sort ascending\n",
    "print(list4)"
   ]
  },
  {
   "cell_type": "code",
   "execution_count": null,
   "id": "609ece51",
   "metadata": {},
   "outputs": [],
   "source": [
    "list4 = [0,4,2,3,1]\n",
    "list4.sort(reverse=True) #Sort descending order\n",
    "print(list4)"
   ]
  },
  {
   "cell_type": "code",
   "execution_count": null,
   "id": "4c8650bd",
   "metadata": {},
   "outputs": [],
   "source": [
    "#Sort in ascending order, then put the values in the same variables.\n",
    "list4 = [0,4,2,3,1]\n",
    "list4 = sorted(list4)\n",
    "print(list4)"
   ]
  },
  {
   "cell_type": "code",
   "execution_count": null,
   "id": "27ad40a8",
   "metadata": {},
   "outputs": [],
   "source": [
    "list4 = [0,4,2,3,1]\n",
    "list4 = sorted(list4,reverse=True)\n",
    "print(list4)"
   ]
  },
  {
   "cell_type": "code",
   "execution_count": null,
   "id": "92502d44",
   "metadata": {},
   "outputs": [],
   "source": [
    "list5 = ['d','a','c','b','e']\n",
    "list5.sort()\n",
    "print(list5)"
   ]
  },
  {
   "cell_type": "code",
   "execution_count": null,
   "id": "040af2c4",
   "metadata": {},
   "outputs": [],
   "source": [
    "list5 = ['d','a','c','b','e']\n",
    "sorted_list5 = sorted(list5,reverse=True)\n",
    "print(sorted_list5)"
   ]
  },
  {
   "cell_type": "code",
   "execution_count": null,
   "id": "8cdd4888",
   "metadata": {},
   "outputs": [],
   "source": [
    "#extend \n",
    "list1 = ['a','b','c']\n",
    "list2 = [0,1,2]\n",
    "list2.extend(list1)\n",
    "print(list2)\n",
    "print(list1)"
   ]
  },
  {
   "cell_type": "code",
   "execution_count": null,
   "id": "0ef0dcc5",
   "metadata": {},
   "outputs": [],
   "source": [
    "list1 = ['a','b','c']\n",
    "list2 = [0,1,2]\n",
    "list3 = list1 + list2\n",
    "print(list1)\n",
    "print(list2)\n",
    "print(list3)"
   ]
  },
  {
   "cell_type": "code",
   "execution_count": null,
   "id": "0875139c",
   "metadata": {},
   "outputs": [],
   "source": [
    "#del \n",
    "list1 = [1,2,3,1,2,3]\n",
    "del(list1[1])\n",
    "list1"
   ]
  },
  {
   "cell_type": "code",
   "execution_count": null,
   "id": "1adb8d43",
   "metadata": {},
   "outputs": [],
   "source": [
    "list1 = [1,2,3,1,2,3]\n",
    "del(list1[2])\n",
    "del(list1[-1])\n",
    "list1"
   ]
  },
  {
   "cell_type": "code",
   "execution_count": null,
   "id": "f2f0e08a",
   "metadata": {},
   "outputs": [],
   "source": [
    "#remove\n",
    "list1 = [1,2,3,1,2,3]\n",
    "list1.remove(1)\n",
    "list1.remove(1)\n",
    "print(list1)"
   ]
  },
  {
   "cell_type": "code",
   "execution_count": null,
   "id": "944489c9",
   "metadata": {},
   "outputs": [],
   "source": [
    "#clear\n",
    "list1 = [1,2,3,1,2,3]\n",
    "# del(list1[0:7])\n",
    "list1.clear()\n",
    "print(list1)"
   ]
  },
  {
   "cell_type": "code",
   "execution_count": null,
   "id": "4cddd53e",
   "metadata": {},
   "outputs": [],
   "source": [
    "list1 = [1,2,3,'a','b','c']\n",
    "print(len(list1))"
   ]
  },
  {
   "cell_type": "code",
   "execution_count": null,
   "id": "7cdd2d5b",
   "metadata": {},
   "outputs": [],
   "source": [
    "list1 = [1,2,3,4,5]\n",
    "numberic1 = int(input('Please input number :'))\n",
    "print(numberic1 in list1)"
   ]
  },
  {
   "cell_type": "markdown",
   "id": "a16a4239",
   "metadata": {},
   "source": [
    "# Tuple"
   ]
  },
  {
   "cell_type": "code",
   "execution_count": null,
   "id": "50a92f71",
   "metadata": {},
   "outputs": [],
   "source": [
    "tuple1 = ('American','Brazil','China','Do-minican','Egypt')\n",
    "print(tuple1,type(tuple1))"
   ]
  },
  {
   "cell_type": "code",
   "execution_count": null,
   "id": "a8c54859",
   "metadata": {},
   "outputs": [],
   "source": [
    "tuple1 = ('American','Brazil','China','Dominican','Egypt')\n",
    "print(tuple1[1])"
   ]
  },
  {
   "cell_type": "code",
   "execution_count": null,
   "id": "64573ce5",
   "metadata": {},
   "outputs": [],
   "source": [
    "tuple1 = ('American','Brazil','China','Dominican','Egypt')\n",
    "print(tuple1[-2])"
   ]
  },
  {
   "cell_type": "code",
   "execution_count": null,
   "id": "3696ff4b",
   "metadata": {},
   "outputs": [],
   "source": [
    "tuple1 = ('American','Brazil','China','Dominican','Egypt')\n",
    "print(tuple1[2])"
   ]
  },
  {
   "cell_type": "code",
   "execution_count": null,
   "id": "58986036",
   "metadata": {},
   "outputs": [],
   "source": [
    "tuple1 = ('American','Brazil','China','Dominican','Egypt')\n",
    "print(tuple1[-1])"
   ]
  },
  {
   "cell_type": "code",
   "execution_count": null,
   "id": "d2ca6a91",
   "metadata": {},
   "outputs": [],
   "source": [
    "tuple2 = ('one','two','three',1,2,3)\n",
    "print(tuple2[1:3])"
   ]
  },
  {
   "cell_type": "code",
   "execution_count": null,
   "id": "190586a5",
   "metadata": {},
   "outputs": [],
   "source": [
    "tuple2 = ('one','two','three',1,2,3)\n",
    "print(tuple2[2:-2])"
   ]
  },
  {
   "cell_type": "code",
   "execution_count": null,
   "id": "33d9718a",
   "metadata": {},
   "outputs": [],
   "source": [
    "tuple2 = ('one','two','three',1,2,3)\n",
    "print(tuple2[2:-2])"
   ]
  },
  {
   "cell_type": "code",
   "execution_count": null,
   "id": "cd5bd14c",
   "metadata": {},
   "outputs": [],
   "source": [
    "tuple2 = ('one','two','three',1,2,3)\n",
    "print(tuple2[0:3])"
   ]
  },
  {
   "cell_type": "code",
   "execution_count": null,
   "id": "81e46c18",
   "metadata": {},
   "outputs": [],
   "source": [
    "tuple2 = ('one','two','three',1,2,3)\n",
    "print(tuple2[-3:6])"
   ]
  },
  {
   "cell_type": "code",
   "execution_count": null,
   "id": "21e12a6f",
   "metadata": {},
   "outputs": [],
   "source": [
    "tuple3 = ('one','two','three','four','five')\n",
    "print(len(tuple3))"
   ]
  },
  {
   "cell_type": "code",
   "execution_count": null,
   "id": "a5c56225",
   "metadata": {},
   "outputs": [],
   "source": [
    "tuple3 = ('one','two','three','four','five')\n",
    "str1 = input('Please input word :')\n",
    "print(str1 in tuple3)"
   ]
  },
  {
   "cell_type": "markdown",
   "id": "c44f5f74",
   "metadata": {},
   "source": [
    "# Dictionary"
   ]
  },
  {
   "cell_type": "code",
   "execution_count": null,
   "id": "d718a3e7",
   "metadata": {},
   "outputs": [],
   "source": [
    "dict1 = {'first_name':'John','last_name':'Doe'}\n",
    "print(dict1,type(dict1))"
   ]
  },
  {
   "cell_type": "code",
   "execution_count": null,
   "id": "6ebcf00f",
   "metadata": {},
   "outputs": [],
   "source": [
    "dict1 = {'first_name':'John','last_name':'Doe'}\n",
    "print(dict1['first_name'])"
   ]
  },
  {
   "cell_type": "code",
   "execution_count": null,
   "id": "d58ce2f0",
   "metadata": {},
   "outputs": [],
   "source": [
    "dict1 = {'first_name':'John','last_name':'Doe'}\n",
    "print(dict1['last_name'])"
   ]
  },
  {
   "cell_type": "code",
   "execution_count": null,
   "id": "cd02976f",
   "metadata": {},
   "outputs": [],
   "source": [
    "dict1 = {'first_name':'John','last_name':'Doe'}\n",
    "print(dict1.keys())"
   ]
  },
  {
   "cell_type": "code",
   "execution_count": null,
   "id": "2418d51b",
   "metadata": {},
   "outputs": [],
   "source": [
    "dict1 = {'first_name':'John','last_name':'Doe'}\n",
    "print(dict1.values())"
   ]
  },
  {
   "cell_type": "code",
   "execution_count": null,
   "id": "d2742635",
   "metadata": {},
   "outputs": [],
   "source": [
    "dict1 = {'first_name':'John','last_name':'Doe'}\n",
    "dict1['first_name'] = 'Jane'\n",
    "print(dict1)"
   ]
  },
  {
   "cell_type": "code",
   "execution_count": null,
   "id": "cda98c57",
   "metadata": {},
   "outputs": [],
   "source": [
    "dict1 = {'first_name':'John','last_name':'Doe'}\n",
    "dict1['age'] = '32'\n",
    "print(dict1)"
   ]
  },
  {
   "cell_type": "code",
   "execution_count": null,
   "id": "27473e0b",
   "metadata": {},
   "outputs": [],
   "source": [
    "dict1 = {'first_name':'John','last_name':'Doe'}\n",
    "dict1['age'] = '32'\n",
    "dict1['hobby'] = ['coding','studying']\n",
    "print(dict1)"
   ]
  },
  {
   "cell_type": "code",
   "execution_count": null,
   "id": "624e123e",
   "metadata": {},
   "outputs": [],
   "source": [
    "emply_dic = {}\n",
    "str1 = str(input('Please your input key : '))\n",
    "str2 = str(input('Please your input value : '))\n",
    "emply_dic[str1] = str2\n",
    "print(emply_dic)"
   ]
  },
  {
   "cell_type": "code",
   "execution_count": null,
   "id": "0fefdac8",
   "metadata": {},
   "outputs": [],
   "source": [
    "dict1 = { 'first_name':'John' , 'last_name':'Doe' , 'age':32 }\n",
    "del dict1['age']\n",
    "print(dict1)"
   ]
  },
  {
   "cell_type": "code",
   "execution_count": null,
   "id": "c161b4b6",
   "metadata": {},
   "outputs": [],
   "source": [
    "dict1 = {'first_name':'John','last_name':'Doe','age':32}\n",
    "dict1.clear()\n",
    "print(dict1)"
   ]
  },
  {
   "cell_type": "code",
   "execution_count": null,
   "id": "ff06956b",
   "metadata": {},
   "outputs": [],
   "source": [
    "dict1 = {'first_name':'John','last_name':'Doe','age':32}\n",
    "print(len(dict1.keys()))"
   ]
  },
  {
   "cell_type": "code",
   "execution_count": null,
   "id": "599616b6",
   "metadata": {},
   "outputs": [],
   "source": [
    "dict1 = {'first_name':'John','last_name':'Doe','age':32}\n",
    "str1 = str(input('Please input word :'))\n",
    "print(str1 in dict1.keys())"
   ]
  },
  {
   "cell_type": "code",
   "execution_count": null,
   "id": "ef862b77",
   "metadata": {},
   "outputs": [],
   "source": [
    "dict1 = {'first_name':'John','last_name':'Doe','age':32}\n",
    "str1 = str(input('Please input word :'))\n",
    "print(str1 in dict1.values())"
   ]
  },
  {
   "cell_type": "markdown",
   "id": "66b63acc",
   "metadata": {},
   "source": [
    "# Set"
   ]
  },
  {
   "cell_type": "code",
   "execution_count": null,
   "id": "5a733523",
   "metadata": {},
   "outputs": [],
   "source": [
    "var_set =  {1,2,3,'i','ii','iii'}\n",
    "print(var_set,type(var_set))"
   ]
  },
  {
   "cell_type": "code",
   "execution_count": null,
   "id": "e1f6b9e4",
   "metadata": {},
   "outputs": [],
   "source": [
    "var_set =  {1,2,3,'i','ii','iii'}\n",
    "print(var_set)"
   ]
  },
  {
   "cell_type": "code",
   "execution_count": null,
   "id": "d86d045a",
   "metadata": {},
   "outputs": [],
   "source": [
    "var_set =  {1,2,3,'i','ii','iii'}\n",
    "var_set.add('iv')\n",
    "print(var_set)"
   ]
  },
  {
   "cell_type": "code",
   "execution_count": null,
   "id": "9e8a58cb",
   "metadata": {},
   "outputs": [],
   "source": [
    "var_set =  {1,2,3,'i','ii','iii'}\n",
    "var_set.add(1)\n",
    "print(var_set)"
   ]
  },
  {
   "cell_type": "code",
   "execution_count": null,
   "id": "b5f0c728",
   "metadata": {},
   "outputs": [],
   "source": [
    "emply_set = set()\n",
    "str1 = str(input('Please insert text in set : '))\n",
    "str2 = str(input('Please insert text in set : '))\n",
    "str3 = str(input('Please insert text in set : '))\n",
    "emply_set.add(str1)\n",
    "emply_set.add(str2)\n",
    "emply_set.add(str3)\n",
    "print(emply_set , type(emply_set))"
   ]
  },
  {
   "cell_type": "code",
   "execution_count": null,
   "id": "daf09357",
   "metadata": {},
   "outputs": [],
   "source": [
    "emply_set = set()\n",
    "str1 = str(input('Please insert text in set : '))\n",
    "str2 = str(input('Please insert text in set : '))\n",
    "str3 = str(input('Please insert text in set : '))\n",
    "emply_set.update(str1)\n",
    "emply_set.update(str2)\n",
    "emply_set.update(str3)\n",
    "print(emply_set , type(emply_set))"
   ]
  },
  {
   "cell_type": "code",
   "execution_count": null,
   "id": "b909e23d",
   "metadata": {},
   "outputs": [],
   "source": [
    "var_set =  {1,2,3,'i','ii','iii'}\n",
    "var_set.remove('i')\n",
    "print(var_set)"
   ]
  },
  {
   "cell_type": "code",
   "execution_count": null,
   "id": "5bdc41c5",
   "metadata": {},
   "outputs": [],
   "source": [
    "var_set =  {1,2,3,'i','ii','iii'}\n",
    "print(len(var_set))"
   ]
  },
  {
   "cell_type": "code",
   "execution_count": null,
   "id": "c786c0cf",
   "metadata": {},
   "outputs": [],
   "source": [
    "var_set =  {1,2,3,'i','ii','iii'}\n",
    "var_int = int(input('Please input number :'))\n",
    "print(var_int in var_set)"
   ]
  },
  {
   "cell_type": "code",
   "execution_count": null,
   "id": "7269bb7a",
   "metadata": {},
   "outputs": [],
   "source": [
    "# '|' => is mean symbol union\n",
    "var_set1 = {1,2,3,4,5}\n",
    "var_set2 = {3,4,5,6}\n",
    "var_set3 = var_set1 | var_set2\n",
    "print(var_set3,type(var_set3))"
   ]
  },
  {
   "cell_type": "code",
   "execution_count": null,
   "id": "ed77a274",
   "metadata": {},
   "outputs": [],
   "source": [
    "# '&' ==> is mean symbol intersection\n",
    "var_set1 = {1,2,3,4,5}\n",
    "var_set2 = {3,4,5,6}\n",
    "var_set3 = var_set1 & var_set2\n",
    "print(var_set3,type(var_set3))"
   ]
  },
  {
   "cell_type": "code",
   "execution_count": null,
   "id": "da3ad115",
   "metadata": {},
   "outputs": [],
   "source": [
    "var_set1 = {1,2,3,4,5}\n",
    "var_set2 = {3,4,5,6}\n",
    "print(var_set1 - var_set2)"
   ]
  },
  {
   "cell_type": "code",
   "execution_count": null,
   "id": "2bcf6d68",
   "metadata": {},
   "outputs": [],
   "source": [
    "var_set1 = {1,2,3,4,5}\n",
    "var_set2 = {3,4,5,6}\n",
    "print(var_set2 - var_set1)"
   ]
  },
  {
   "cell_type": "code",
   "execution_count": null,
   "id": "c7e294d1",
   "metadata": {},
   "outputs": [],
   "source": [
    "# symmetric difference ['Combines members but excludes members that are the same.']\n",
    "# '^' this is symbol for symmetric difference \n",
    "\n",
    "var_set1 = {1,2,3,4,5}\n",
    "var_set2 = {3,4,5,6}\n",
    "print(var_set1 ^ var_set2)"
   ]
  }
 ],
 "metadata": {
  "kernelspec": {
   "display_name": "Python 3 (ipykernel)",
   "language": "python",
   "name": "python3"
  },
  "language_info": {
   "codemirror_mode": {
    "name": "ipython",
    "version": 3
   },
   "file_extension": ".py",
   "mimetype": "text/x-python",
   "name": "python",
   "nbconvert_exporter": "python",
   "pygments_lexer": "ipython3",
   "version": "3.10.9"
  }
 },
 "nbformat": 4,
 "nbformat_minor": 5
}
