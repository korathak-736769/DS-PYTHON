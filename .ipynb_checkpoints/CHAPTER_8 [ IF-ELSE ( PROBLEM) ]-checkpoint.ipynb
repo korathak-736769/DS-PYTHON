{
 "cells": [
  {
   "cell_type": "code",
   "execution_count": 2,
   "id": "76db8632",
   "metadata": {},
   "outputs": [
    {
     "name": "stdout",
     "output_type": "stream",
     "text": [
      "Please input number :46\n",
      "Even Number\n"
     ]
    }
   ],
   "source": [
    "number = int(input('Please input number :'))\n",
    "if(number%2==0):\n",
    "    print('Even Number')\n",
    "else:\n",
    "    print('Old Number')"
   ]
  },
  {
   "cell_type": "code",
   "execution_count": null,
   "id": "5db63777",
   "metadata": {},
   "outputs": [],
   "source": [
    "number = int(input('Please input number :'))\n",
    "if(number > 0):\n",
    "    print('The number is greater than 0.')\n"
   ]
  }
 ],
 "metadata": {
  "kernelspec": {
   "display_name": "Python 3 (ipykernel)",
   "language": "python",
   "name": "python3"
  },
  "language_info": {
   "codemirror_mode": {
    "name": "ipython",
    "version": 3
   },
   "file_extension": ".py",
   "mimetype": "text/x-python",
   "name": "python",
   "nbconvert_exporter": "python",
   "pygments_lexer": "ipython3",
   "version": "3.10.9"
  }
 },
 "nbformat": 4,
 "nbformat_minor": 5
}
