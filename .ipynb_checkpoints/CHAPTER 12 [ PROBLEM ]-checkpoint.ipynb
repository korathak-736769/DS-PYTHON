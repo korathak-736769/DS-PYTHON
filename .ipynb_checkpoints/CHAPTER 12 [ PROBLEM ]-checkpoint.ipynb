{
 "cells": [
  {
   "cell_type": "markdown",
   "id": "fb26b915",
   "metadata": {},
   "source": [
    "### PROBLEM [ 1 ]   "
   ]
  },
  {
   "cell_type": "code",
   "execution_count": null,
   "id": "32d17d26",
   "metadata": {},
   "outputs": [],
   "source": [
    "for i in range(50):\n",
    "    if i%3==0:\n",
    "        print(i,end=' ')"
   ]
  },
  {
   "cell_type": "markdown",
   "id": "2439294d",
   "metadata": {},
   "source": [
    "### PROBLEM [ 2 ]   "
   ]
  },
  {
   "cell_type": "code",
   "execution_count": null,
   "id": "0775f088",
   "metadata": {
    "scrolled": true
   },
   "outputs": [],
   "source": [
    "for i in range(0,100+1):\n",
    "    if(i%3==0):\n",
    "        print(i,end=' ')"
   ]
  },
  {
   "cell_type": "markdown",
   "id": "e9f8a45a",
   "metadata": {},
   "source": [
    "### PROBLEM [ 3 ]   "
   ]
  },
  {
   "cell_type": "code",
   "execution_count": null,
   "id": "6f2d05a8",
   "metadata": {},
   "outputs": [],
   "source": [
    "for i in range(0,100+1):\n",
    "    if(i%3==0 and i%5==0):\n",
    "        print(i,end=' ')"
   ]
  },
  {
   "cell_type": "markdown",
   "id": "d764bb68",
   "metadata": {},
   "source": [
    "### PROBLEM [ 4 ]   "
   ]
  },
  {
   "cell_type": "code",
   "execution_count": null,
   "id": "2d13a6b1",
   "metadata": {
    "scrolled": true
   },
   "outputs": [],
   "source": [
    "for i in range(0,100+1):\n",
    "    if(i%3==0 or i%5==0):\n",
    "        print(i,end=' ')"
   ]
  },
  {
   "cell_type": "markdown",
   "id": "1b0b830d",
   "metadata": {},
   "source": [
    "### PROBLEM [ 5 ]   "
   ]
  },
  {
   "cell_type": "code",
   "execution_count": null,
   "id": "a9f4913c",
   "metadata": {},
   "outputs": [],
   "source": [
    "for i in range(0,1000+1):\n",
    "    if(i%3==0 and i%5==0 and i%7==0):\n",
    "        print(i,end=' ')"
   ]
  },
  {
   "cell_type": "markdown",
   "id": "b86301b0",
   "metadata": {},
   "source": [
    "### PROBLEM [ 6 ]   "
   ]
  },
  {
   "cell_type": "code",
   "execution_count": null,
   "id": "b01998f2",
   "metadata": {},
   "outputs": [],
   "source": [
    "for i in range(0,100+1):\n",
    "    if(i%3==0 or i%5==0 or i%7==0):\n",
    "        print(i,end=' ')"
   ]
  },
  {
   "cell_type": "markdown",
   "id": "917a2809",
   "metadata": {},
   "source": [
    "### PROBLEM [ 7 ]   "
   ]
  },
  {
   "cell_type": "code",
   "execution_count": null,
   "id": "df39e228",
   "metadata": {},
   "outputs": [],
   "source": [
    "for i in range(0,100+1):\n",
    "    if(i%3==0 or i%5==0):\n",
    "        print(i,end=' ')"
   ]
  },
  {
   "cell_type": "markdown",
   "id": "ee148535",
   "metadata": {},
   "source": [
    "### PROBLEM [ 8 ]   "
   ]
  },
  {
   "cell_type": "code",
   "execution_count": null,
   "id": "6fb68532",
   "metadata": {},
   "outputs": [],
   "source": [
    "for i in range(0,100+1):\n",
    "    if((i%3==0 and i%5==0) and i%2!=0):\n",
    "        print(i,end=' ')"
   ]
  },
  {
   "cell_type": "markdown",
   "id": "57c7e313",
   "metadata": {},
   "source": [
    "### PROBLEM [ 9 ]   "
   ]
  },
  {
   "cell_type": "code",
   "execution_count": null,
   "id": "df2108f2",
   "metadata": {},
   "outputs": [],
   "source": [
    "for i in range(0,100+1):\n",
    "    if((i%3==0 or i%5==0)and i%2!=0):\n",
    "        print(i,end=' ')"
   ]
  },
  {
   "cell_type": "markdown",
   "id": "dcab679f",
   "metadata": {},
   "source": [
    "### PROBLEM [ 10 ]   "
   ]
  },
  {
   "cell_type": "code",
   "execution_count": null,
   "id": "f424130a",
   "metadata": {},
   "outputs": [],
   "source": [
    "count = 0 \n",
    "for i in range(0,100+1):\n",
    "    if(i%3==0):\n",
    "        count = count + 1\n",
    "print(count)"
   ]
  },
  {
   "cell_type": "markdown",
   "id": "a4d42b22",
   "metadata": {},
   "source": [
    "### PROBLEM [ 11 ]   "
   ]
  },
  {
   "cell_type": "code",
   "execution_count": null,
   "id": "6b2c5f29",
   "metadata": {},
   "outputs": [],
   "source": [
    "suma = 0\n",
    "for i in range(0,1000+1):\n",
    "    if(i%3==0):\n",
    "        suma += i\n",
    "print(suma)"
   ]
  },
  {
   "cell_type": "markdown",
   "id": "085d3b9d",
   "metadata": {},
   "source": [
    "### PROBLEM [ 12 ]   "
   ]
  },
  {
   "cell_type": "code",
   "execution_count": null,
   "id": "006cc15a",
   "metadata": {},
   "outputs": [],
   "source": [
    "suma = 0 \n",
    "sum_a = 0\n",
    "for i in range(0,5):\n",
    "    suma = int(input('Please input number : '))\n",
    "    sum_a = sum_a + suma\n",
    "print(sum_a)"
   ]
  },
  {
   "cell_type": "markdown",
   "id": "55561ea6",
   "metadata": {},
   "source": [
    "### PROBLEM [ 13 ]   "
   ]
  },
  {
   "cell_type": "code",
   "execution_count": null,
   "id": "e258464e",
   "metadata": {},
   "outputs": [],
   "source": [
    "suma = 0 \n",
    "sum_a = 0\n",
    "for i in range(0,5):\n",
    "    suma = int(input('Please input number : '))\n",
    "    sum_a = sum_a + suma\n",
    "print(sum_a)"
   ]
  },
  {
   "cell_type": "markdown",
   "id": "05fedd4d",
   "metadata": {},
   "source": [
    "### PROBLEM [ 14 ]   "
   ]
  },
  {
   "cell_type": "code",
   "execution_count": null,
   "id": "5d66b0ce",
   "metadata": {},
   "outputs": [],
   "source": [
    "sum_po = 0\n",
    "sum_ne = 0\n",
    "for i in range(0,5):\n",
    "    num = int(input('Please insert number : '))\n",
    "    if num > 0:\n",
    "        sum_po = sum_po + num\n",
    "    else:\n",
    "        sum_ne = sum_ne + num\n",
    "print(\"summation of positive \",sum_po,\", summation of negative \",sum_ne)"
   ]
  },
  {
   "cell_type": "markdown",
   "id": "81f9d29e",
   "metadata": {},
   "source": [
    "### PROBLEM [ 15 ]   "
   ]
  },
  {
   "cell_type": "code",
   "execution_count": null,
   "id": "b769259d",
   "metadata": {},
   "outputs": [],
   "source": [
    "sum_multi = 1\n",
    "for i in range(0,5):\n",
    "    num = int(input('Please insert number : '))\n",
    "    if num > 0:\n",
    "        sum_multi = sum_multi * num\n",
    "print(\"summation of multiply : \",sum_multi)"
   ]
  },
  {
   "cell_type": "markdown",
   "id": "67c22aba",
   "metadata": {},
   "source": [
    "### PROBLEM [ 16 ]   "
   ]
  },
  {
   "cell_type": "code",
   "execution_count": null,
   "id": "f87af513",
   "metadata": {
    "scrolled": true
   },
   "outputs": [],
   "source": [
    "num = int(input('Please insert number : '))\n",
    "for i in range(0,1000+1):\n",
    "    if i%num == 0:\n",
    "        print(i,end=' ')"
   ]
  },
  {
   "cell_type": "markdown",
   "id": "10824691",
   "metadata": {},
   "source": [
    "### PROBLEM [ 17 ]   "
   ]
  },
  {
   "cell_type": "code",
   "execution_count": null,
   "id": "0f779304",
   "metadata": {},
   "outputs": [],
   "source": [
    "num = int(input('Please input number : '))\n",
    "count = 0\n",
    "if num > 0:\n",
    "    for i in range(1,num+1):\n",
    "        if num%i == 0:\n",
    "            count+=1\n",
    "if count == 2:\n",
    "    print('number is prime!!')\n",
    "else:\n",
    "    print('number is not prime!!')"
   ]
  },
  {
   "cell_type": "markdown",
   "id": "f3e637e6",
   "metadata": {},
   "source": [
    "### PROBLEM [ 18 ]   "
   ]
  },
  {
   "cell_type": "code",
   "execution_count": null,
   "id": "1d6d3aca",
   "metadata": {
    "scrolled": false
   },
   "outputs": [],
   "source": [
    "for i in range(1,100+1):\n",
    "    count = 0\n",
    "    for j in range(1,i+1):\n",
    "        if i%j == 0:\n",
    "            count += 1\n",
    "    if count == 2:\n",
    "        print(i,end=' ')"
   ]
  },
  {
   "cell_type": "markdown",
   "id": "dcfe1a7f",
   "metadata": {},
   "source": [
    "### PROBLEM [ 19 ]  "
   ]
  },
  {
   "cell_type": "code",
   "execution_count": null,
   "id": "6d1cc181",
   "metadata": {},
   "outputs": [],
   "source": [
    "count_prime = 0\n",
    "i = 1\n",
    "while count_prime < 100:\n",
    "    count = 0\n",
    "    for j in range(1,i+1):\n",
    "        if i%j == 0:\n",
    "            count+=1\n",
    "    if count == 2:\n",
    "        print(i,end=' ')\n",
    "        count_prime+=1\n",
    "    i+=1"
   ]
  },
  {
   "cell_type": "markdown",
   "id": "c15218b7",
   "metadata": {},
   "source": [
    "### PROBLEM [ 20 ]  "
   ]
  },
  {
   "cell_type": "code",
   "execution_count": null,
   "id": "b54a2289",
   "metadata": {
    "scrolled": true
   },
   "outputs": [],
   "source": [
    "string = str(input('Please insert string : '))\n",
    "count = len(string)\n",
    "for i in range(count):\n",
    "    if i%2 == 0:\n",
    "        print(string[i],end=' ')"
   ]
  },
  {
   "cell_type": "markdown",
   "id": "61b85368",
   "metadata": {},
   "source": [
    "### PROBLEM [ 21 ]  "
   ]
  },
  {
   "cell_type": "code",
   "execution_count": null,
   "id": "6365daba",
   "metadata": {},
   "outputs": [],
   "source": [
    "string = str(input('Please insert string : '))\n",
    "count = len(string)\n",
    "for i in range(count):\n",
    "    if i%2 != 0:\n",
    "        print(string[i],end=' ')"
   ]
  },
  {
   "cell_type": "markdown",
   "id": "bd5b40d9",
   "metadata": {},
   "source": [
    "### PROBLEM [ 22 ]  "
   ]
  },
  {
   "cell_type": "code",
   "execution_count": null,
   "id": "054675bf",
   "metadata": {
    "scrolled": false
   },
   "outputs": [],
   "source": [
    "for i in range(0,5):\n",
    "    string = str(input(\"Please insert string : \"))\n",
    "    print(len(string),end=' ')"
   ]
  },
  {
   "cell_type": "markdown",
   "id": "d352e0cd",
   "metadata": {},
   "source": [
    "### PROBLEM [ 23 ]  "
   ]
  },
  {
   "cell_type": "code",
   "execution_count": null,
   "id": "9aa2f045",
   "metadata": {
    "scrolled": true
   },
   "outputs": [],
   "source": [
    "string = str(input('Please input string : '))\n",
    "char = str(input('Please input charactor : '))\n",
    "if len(char) == 1:\n",
    "    for i in range(len(string)):\n",
    "        if char == string[i]:\n",
    "            print(\"string[%d]\"%i,end=' ')"
   ]
  },
  {
   "cell_type": "markdown",
   "id": "34d529e3",
   "metadata": {},
   "source": [
    "### PROBLEM [ 24 ]  "
   ]
  },
  {
   "cell_type": "code",
   "execution_count": null,
   "id": "5c19c241",
   "metadata": {},
   "outputs": [],
   "source": [
    "count_str = 0\n",
    "for i in range(5):\n",
    "    string = input('Please input string [ %d ]'%i+1)\n",
    "    for str_ in string:\n",
    "        if str_ == 'a':\n",
    "            count_str+=1\n",
    "print('The a show in string is %d more!!'%count_str)"
   ]
  },
  {
   "cell_type": "markdown",
   "id": "634bc6db",
   "metadata": {},
   "source": [
    "### PROBLEM [ 25 ]  "
   ]
  },
  {
   "cell_type": "code",
   "execution_count": null,
   "id": "7ca3f8dc",
   "metadata": {},
   "outputs": [],
   "source": [
    "count_vowel = 0\n",
    "vowel = ['a','e','i','o','u']\n",
    "string = input(\"Please input sentence : \")\n",
    "for v in vowel:\n",
    "    count_v = string.count(v)\n",
    "    count_vowel += count_v\n",
    "if count_vowel != 0:\n",
    "    print('There is vowel!!')\n",
    "else:\n",
    "    print('There is no vowel!!')"
   ]
  },
  {
   "cell_type": "markdown",
   "id": "5fc1079c",
   "metadata": {},
   "source": [
    "### PROBLEM [ 26 ]"
   ]
  },
  {
   "cell_type": "code",
   "execution_count": null,
   "id": "5ab89f68",
   "metadata": {
    "scrolled": true
   },
   "outputs": [],
   "source": [
    "vowel = ['a','e','i','o','u']\n",
    "string = input('Please insert sentence : ')\n",
    "for v in vowel:\n",
    "    string = string.replace(v,'*')\n",
    "print(string)"
   ]
  },
  {
   "cell_type": "markdown",
   "id": "e6ca6c9a",
   "metadata": {},
   "source": [
    "### PROBLEM [ 27 ]"
   ]
  },
  {
   "cell_type": "code",
   "execution_count": null,
   "id": "ef32d210",
   "metadata": {
    "scrolled": false
   },
   "outputs": [],
   "source": [
    "string_1 = input('Please insert sentence_1 : ')\n",
    "string_2 = [ ]\n",
    "for i in range (len(string_1)):\n",
    "    print('Hello World!!')"
   ]
  },
  {
   "cell_type": "markdown",
   "id": "a650f478",
   "metadata": {},
   "source": [
    "### PROBLEM [ 28 ]"
   ]
  },
  {
   "cell_type": "code",
   "execution_count": null,
   "id": "fbfc0323",
   "metadata": {
    "scrolled": true
   },
   "outputs": [],
   "source": [
    "concat_string = ' '\n",
    "for i in range(5):\n",
    "    string = str(input(\"Please input string[%d]\" % i))\n",
    "    concat_string = string + concat_string \n",
    "print(concat_string)"
   ]
  },
  {
   "cell_type": "markdown",
   "id": "8fda7931",
   "metadata": {},
   "source": [
    "### PROBLEM [29]"
   ]
  },
  {
   "cell_type": "code",
   "execution_count": null,
   "id": "86d9cff4",
   "metadata": {
    "scrolled": true
   },
   "outputs": [],
   "source": [
    "str1 = str(input(\"Please insert string : \"))\n",
    "int1 = int(input(\"please insert integer: \"))\n",
    "if len(str1) < int1:\n",
    "    str1 = str1 + ('*'*(int1 - len(str1)))\n",
    "print(str1)"
   ]
  },
  {
   "cell_type": "markdown",
   "id": "7afe5f70",
   "metadata": {},
   "source": [
    "### PROBLEM [30]"
   ]
  },
  {
   "cell_type": "code",
   "execution_count": null,
   "id": "b5903707",
   "metadata": {
    "scrolled": true
   },
   "outputs": [],
   "source": [
    "str1 = input(\"Please insert string : \")\n",
    "set1 = set(str1)\n",
    "print(set1)"
   ]
  },
  {
   "cell_type": "markdown",
   "id": "a2abc294",
   "metadata": {},
   "source": [
    "### PROBLEM [31]"
   ]
  },
  {
   "cell_type": "code",
   "execution_count": null,
   "id": "e5d52419",
   "metadata": {},
   "outputs": [],
   "source": [
    "str1 = str(input(\"Please input sentense : \"))\n",
    "set1 = set(set1)\n",
    "for s in set1:\n",
    "    count_s = str1.count(s)\n",
    "    print(s,count_s)"
   ]
  },
  {
   "cell_type": "markdown",
   "id": "d5f4ee28",
   "metadata": {},
   "source": [
    "### PROBLEM [32]"
   ]
  },
  {
   "cell_type": "code",
   "execution_count": null,
   "id": "d1dc866c",
   "metadata": {
    "scrolled": true
   },
   "outputs": [],
   "source": [
    "empty_list = [ ]\n",
    "for i in range(20):\n",
    "    empty_list.append(i)\n",
    "print(empty_list)"
   ]
  },
  {
   "cell_type": "markdown",
   "id": "81de0572",
   "metadata": {},
   "source": [
    "### PROBLEM [33]"
   ]
  },
  {
   "cell_type": "code",
   "execution_count": null,
   "id": "08f8b236",
   "metadata": {
    "scrolled": true
   },
   "outputs": [],
   "source": [
    "empty_list = [ ]\n",
    "for i in range(99,79,-1):\n",
    "    empty_list.append(i)\n",
    "print(empty_list)"
   ]
  },
  {
   "cell_type": "markdown",
   "id": "60ca04eb",
   "metadata": {},
   "source": [
    "### PROBLEM [ 34 ]"
   ]
  },
  {
   "cell_type": "code",
   "execution_count": null,
   "id": "1fab2f07",
   "metadata": {
    "scrolled": true
   },
   "outputs": [],
   "source": [
    "list1 = []\n",
    "for i in range(5):\n",
    "    numberic = int(input('Please input numberic : '))\n",
    "    if numberic not in list1:\n",
    "        list1.append(numberic)\n",
    "print(list1)"
   ]
  },
  {
   "cell_type": "markdown",
   "id": "5f00a5ab",
   "metadata": {},
   "source": [
    "### PROBLEM [35]"
   ]
  },
  {
   "cell_type": "code",
   "execution_count": null,
   "id": "63ce123c",
   "metadata": {
    "scrolled": true
   },
   "outputs": [],
   "source": [
    "em_list = []\n",
    "while len(em_list)<5:\n",
    "    string = str(input('Please insert sentense : '))\n",
    "    if string in em_list:\n",
    "        pass\n",
    "    elif string not in em_list:\n",
    "        em_list.append(string)\n",
    "print(em_list)"
   ]
  },
  {
   "cell_type": "markdown",
   "id": "4134b7f3",
   "metadata": {},
   "source": [
    "### PROBLEM [36]"
   ]
  },
  {
   "cell_type": "code",
   "execution_count": null,
   "id": "ad3cad98",
   "metadata": {
    "scrolled": true
   },
   "outputs": [],
   "source": [
    "list1 = [1,2,3,4,5,6,7,8,9,10]\n",
    "list1.reverse()\n",
    "print(list1)"
   ]
  },
  {
   "cell_type": "markdown",
   "id": "7e38abab",
   "metadata": {},
   "source": [
    "### PROBLEM [37]"
   ]
  },
  {
   "cell_type": "code",
   "execution_count": null,
   "id": "1b44e65e",
   "metadata": {},
   "outputs": [],
   "source": [
    "list1 = [1,2,3,4,5,6,7,8,9,10]\n",
    "for i in range(10):\n",
    "    if i%2 == 0:\n",
    "        print(list1[i],end=' ')"
   ]
  },
  {
   "cell_type": "markdown",
   "id": "34012260",
   "metadata": {},
   "source": [
    "### PROBLEM [38]"
   ]
  },
  {
   "cell_type": "code",
   "execution_count": null,
   "id": "1efb0592",
   "metadata": {},
   "outputs": [],
   "source": [
    "list1 = [1,2,3,4,5,6,7,8,9,10]\n",
    "for i in range(10):\n",
    "    if i%2 != 0:\n",
    "        print(list1[i],end=' ')"
   ]
  },
  {
   "cell_type": "markdown",
   "id": "9df8977d",
   "metadata": {},
   "source": [
    "### PROBLEM [39]"
   ]
  },
  {
   "cell_type": "code",
   "execution_count": null,
   "id": "f4f5cb98",
   "metadata": {
    "scrolled": true
   },
   "outputs": [],
   "source": [
    "list1 = [1,2,3,4,5,6,7,8,9,10]\n",
    "for i in list1:\n",
    "    if i%3 == 0:\n",
    "        print(i,end=' ')"
   ]
  },
  {
   "cell_type": "markdown",
   "id": "455818a3",
   "metadata": {},
   "source": [
    "### PROBLEM [ 40 ]"
   ]
  },
  {
   "cell_type": "code",
   "execution_count": null,
   "id": "6a3abe31",
   "metadata": {
    "scrolled": true
   },
   "outputs": [],
   "source": [
    "list2 = ['a','l','l','g','a','t','o','r']\n",
    "string = str(input('Please input charactor : '))\n",
    "for i in range(len(list2)):\n",
    "    if list2[i] == string:\n",
    "        print('index[%d]' %(i))"
   ]
  },
  {
   "cell_type": "markdown",
   "id": "6f0ec603",
   "metadata": {},
   "source": [
    "### PROBLEM [ 41 ]"
   ]
  },
  {
   "cell_type": "code",
   "execution_count": null,
   "id": "90d2b9ff",
   "metadata": {},
   "outputs": [],
   "source": [
    "list3 = [1 ,2 ,3 ,4 ,5 ,6 ,7 ,8 ,9 ,10 ,11 ,12 ,13 ,14 ,15 ,16 ,17 ,18 ,19 ,20 ,21 ,22 ,23 ,24 ,25]\n",
    "for i in range(len(list3)):\n",
    "    if i%2 == 0:\n",
    "        list3[i] = 'a'\n",
    "print(list3)"
   ]
  },
  {
   "cell_type": "markdown",
   "id": "4e175782",
   "metadata": {},
   "source": [
    "### PROBLEM [ 42 ]"
   ]
  },
  {
   "cell_type": "code",
   "execution_count": null,
   "id": "fc3c186a",
   "metadata": {
    "scrolled": true
   },
   "outputs": [],
   "source": [
    "list3 = [1 ,2 ,3 ,4 ,5 ,6 ,7 ,8 ,9 ,10 ,11 ,12 ,13 ,14 ,15 ,16 ,17 ,18 ,19 ,20 ,21 ,22 ,23 ,24 ,25]\n",
    "for i in range(len(list3)):\n",
    "    if i%2 != 0:\n",
    "        list3[i] = 'b'\n",
    "print(list3)"
   ]
  },
  {
   "cell_type": "markdown",
   "id": "5e784752",
   "metadata": {},
   "source": [
    "### PROBLEM [ 43 ]"
   ]
  },
  {
   "cell_type": "code",
   "execution_count": null,
   "id": "3efd8eda",
   "metadata": {
    "scrolled": true
   },
   "outputs": [],
   "source": [
    "list3 = [num for num in range(1,26)]\n",
    "for i in range(len(list3)):\n",
    "    if (list3[i]**(1/2))%1 == 0:\n",
    "        list3[i] = 'square'\n",
    "print(list3)"
   ]
  },
  {
   "cell_type": "markdown",
   "id": "d5011288",
   "metadata": {},
   "source": [
    "### PROBLEM [ 44 ]"
   ]
  },
  {
   "cell_type": "code",
   "execution_count": null,
   "id": "ebccdb47",
   "metadata": {},
   "outputs": [],
   "source": [
    "listx = [0,2,4,6,8]\n",
    "list4 = ['a','b','c','d','e','f']\n",
    "for x in listx:\n",
    "    list4.insert(x,'*')\n",
    "print(list4)"
   ]
  },
  {
   "cell_type": "markdown",
   "id": "ff378f70",
   "metadata": {},
   "source": [
    "### PROBLEM [ 45 ]"
   ]
  },
  {
   "cell_type": "code",
   "execution_count": null,
   "id": "8aacf49c",
   "metadata": {
    "scrolled": true
   },
   "outputs": [],
   "source": [
    "list4 = ['a','b','c','d','e','f']\n",
    "for count in range(3):\n",
    "    index = int(input('Please input indxe[%d] :' %(count+1)))\n",
    "    element = str(input('Please input element[%d] : ' %(count+1)))\n",
    "    list4.insert(index,element)\n",
    "print(list4)"
   ]
  },
  {
   "cell_type": "markdown",
   "id": "577a2334",
   "metadata": {},
   "source": [
    "### PROBLEM [ 46 ]"
   ]
  },
  {
   "cell_type": "code",
   "execution_count": null,
   "id": "590769f9",
   "metadata": {},
   "outputs": [],
   "source": [
    "list4 = ['a','b','c','d','e','f']\n",
    "for count in range(3):\n",
    "    index = int(input('Please input indxe[%d] :' %(count+1)))\n",
    "    element = str(input('Please input element[%d] : ' %(count+1)))\n",
    "    if element not in list4:\n",
    "        list4.insert(index,element)\n",
    "print(list4)"
   ]
  },
  {
   "cell_type": "markdown",
   "id": "8e73e015",
   "metadata": {},
   "source": [
    "### PROBLEM [ 47 ]"
   ]
  },
  {
   "cell_type": "code",
   "execution_count": null,
   "id": "18bdcce9",
   "metadata": {
    "scrolled": true
   },
   "outputs": [],
   "source": [
    "list4 = ['a','b','c','d','e','f']\n",
    "num1 = int(input('Please input numberic : '))\n",
    "if num1 < len(list4)-1:\n",
    "    del list4[num1]\n",
    "else:\n",
    "    pass\n",
    "print(list4)"
   ]
  },
  {
   "cell_type": "markdown",
   "id": "a1a243ba",
   "metadata": {},
   "source": [
    "### PROBLEM [ 48 ]"
   ]
  },
  {
   "cell_type": "code",
   "execution_count": null,
   "id": "acd408bd",
   "metadata": {},
   "outputs": [],
   "source": [
    "list4 = ['a','b','c','d','e','f']\n",
    "str1 = str(input(\"Please enter sentence :\"))\n",
    "if str1 in list4:\n",
    "    list4.remove(str1)\n",
    "print(list4)"
   ]
  },
  {
   "cell_type": "markdown",
   "id": "7631854e",
   "metadata": {},
   "source": [
    "### PROBLEM [ 49 ]"
   ]
  },
  {
   "cell_type": "code",
   "execution_count": null,
   "id": "0359e9c3",
   "metadata": {
    "scrolled": true
   },
   "outputs": [],
   "source": [
    "list1 = [x for x in range(1,11)]\n",
    "integer = int(input('Please enter numberic : '))\n",
    "if integer in list1:\n",
    "    index = list1.index(integer)\n",
    "    del list1[index]\n",
    "else:\n",
    "    list1.append(integer)\n",
    "print(list1)"
   ]
  },
  {
   "cell_type": "markdown",
   "id": "bd9936c6",
   "metadata": {},
   "source": [
    "### PROBLEM [ 50 ]"
   ]
  },
  {
   "cell_type": "code",
   "execution_count": null,
   "id": "d51d35ca",
   "metadata": {
    "scrolled": false
   },
   "outputs": [],
   "source": [
    "list1 = [x for x in range(1,11)]\n",
    "integer = int(input('Please enter numberic : '))\n",
    "if integer in list1:\n",
    "    list1.remove(integer)\n",
    "else:\n",
    "    list1.append(integer)\n",
    "print(list1)"
   ]
  },
  {
   "cell_type": "markdown",
   "id": "d6e2dfbf",
   "metadata": {},
   "source": [
    "### PROBLEM [ 51 ]"
   ]
  },
  {
   "cell_type": "code",
   "execution_count": null,
   "id": "665d9587",
   "metadata": {},
   "outputs": [],
   "source": [
    "list1 = [i for i in range(1,11)]\n",
    "for i in range(len(list1)-2,-1,-2):\n",
    "    del list1[i]\n",
    "print(list1)"
   ]
  },
  {
   "cell_type": "markdown",
   "id": "ea53696e",
   "metadata": {},
   "source": [
    "### PROBLEM [ 52 ]"
   ]
  },
  {
   "cell_type": "code",
   "execution_count": null,
   "id": "3ec546b3",
   "metadata": {},
   "outputs": [],
   "source": [
    "list1 = [i for i in range(1,11)]\n",
    "for i in range(len(list1)-2,-1,-2):\n",
    "    list1.remove(list1[i])\n",
    "print(list1)"
   ]
  },
  {
   "cell_type": "markdown",
   "id": "c1794316",
   "metadata": {},
   "source": [
    "### PROBLEM [ 53 ]"
   ]
  },
  {
   "cell_type": "code",
   "execution_count": null,
   "id": "392ec393",
   "metadata": {
    "scrolled": true
   },
   "outputs": [],
   "source": [
    "list3 = [i for i in range(1,26)]\n",
    "for x in range(len(list3)-1,-1,-1):\n",
    "    if (list3[x]%3 == 0) or (list3[x]%2 == 0):\n",
    "        del list3[x]\n",
    "print(list3,end=' ')"
   ]
  },
  {
   "cell_type": "markdown",
   "id": "93d8be7c",
   "metadata": {},
   "source": [
    "### PROBLEM [ 54 ]"
   ]
  },
  {
   "cell_type": "code",
   "execution_count": null,
   "id": "92ce6a16",
   "metadata": {},
   "outputs": [],
   "source": [
    "list3 = [i for i in range(1,26)]\n",
    "for x in range(len(list3)-1,-1,-1):\n",
    "    if (list3[x]%3 != 0) and (list3[x]%2 == 0):\n",
    "        list3.remove(list3[x])\n",
    "print(list3,end=' ')"
   ]
  },
  {
   "cell_type": "markdown",
   "id": "0e1295c6",
   "metadata": {},
   "source": [
    "### PROBLEM [ 55 ]"
   ]
  },
  {
   "cell_type": "code",
   "execution_count": null,
   "id": "ed94dc44",
   "metadata": {},
   "outputs": [],
   "source": [
    "list1 = [i for i in range(1,11)]\n",
    "while len(list1)>7:\n",
    "    num = int(input('Please enter numberic : '))\n",
    "    if num in list1:\n",
    "        list1.remove(num)\n",
    "        print('Update range in list[%d]' %(len(list1)))\n",
    "print(list1)"
   ]
  },
  {
   "cell_type": "markdown",
   "id": "346abbd7",
   "metadata": {},
   "source": [
    "### PROBLEM [ 56 ]"
   ]
  },
  {
   "cell_type": "code",
   "execution_count": null,
   "id": "554493d9",
   "metadata": {},
   "outputs": [],
   "source": [
    "matrix1 = [[1,2,3],\n",
    "          [4,5,6],\n",
    "          [7,8,9]]\n",
    "\n",
    "matrix2 = [[1,2,3],\n",
    "          [1,2,3],\n",
    "          [1,2,3]]\n",
    "result_matrix = [[0,0,0],[0,0,0],[0,0,0]]\n",
    "for i in range(3):\n",
    "    for j in range(3):\n",
    "        result_matrix[i][j] = matrix1[i][j] + matrix2[i][j]\n",
    "print(result_matrix)"
   ]
  },
  {
   "cell_type": "markdown",
   "id": "510339ca",
   "metadata": {},
   "source": [
    "### PROBLEM [ 57 ]"
   ]
  },
  {
   "cell_type": "code",
   "execution_count": null,
   "id": "3ea8e0d1",
   "metadata": {},
   "outputs": [],
   "source": [
    "matrix1 = [[1,2,3],\n",
    "          [4,5,6],\n",
    "          [7,8,9]]\n",
    "\n",
    "matrix2 = [[1,2,3],\n",
    "          [1,2,3],\n",
    "          [1,2,3]]\n",
    "result_matrix = [[0,0,0],[0,0,0],[0,0,0]]\n",
    "for i in range(3):\n",
    "    for j in range(3):\n",
    "        result_matrix[i][j] = matrix1[i][j] * matrix2[i][j]\n",
    "print(result_matrix)"
   ]
  },
  {
   "cell_type": "markdown",
   "id": "f97fe430",
   "metadata": {},
   "source": [
    "### PROBLEM [ 58 ]"
   ]
  },
  {
   "cell_type": "code",
   "execution_count": null,
   "id": "cfc34866",
   "metadata": {},
   "outputs": [],
   "source": [
    "matrix1 = [ [1,2,3],\n",
    "            [4,5,6],\n",
    "            [7,8,9]]\n",
    "\n",
    "n_col = len(matrix1[0])\n",
    "n_row = len(matrix1)\n",
    "traspose_matrix = [[0,0,0],[0,0,0],[0,0,0]]\n",
    "for i in range(n_col):\n",
    "    for j in range(n_row):\n",
    "        traspose_matrix[j][i] = matrix1[i][j]\n",
    "print(traspose_matrix)"
   ]
  },
  {
   "cell_type": "markdown",
   "id": "c2bd3f81",
   "metadata": {},
   "source": [
    "### PROBLEM [ 59 ]"
   ]
  },
  {
   "cell_type": "code",
   "execution_count": null,
   "id": "c7a67a2d",
   "metadata": {},
   "outputs": [],
   "source": [
    "# column = 4 & row = 2\n",
    "\"\"\"\n",
    "*****\n",
    "    [column] matrix1 = [row] traspose_matrix\n",
    "    [row] matrix1 = [column] traspose_matrix\n",
    "\"\"\"\n",
    "matrix1 = [[1,2,3,4],\n",
    "           [5,6,7,8]]\n",
    "\n",
    "traspose_matrix = [[0,0],\n",
    "                   [0,0],\n",
    "                   [0,0],\n",
    "                   [0,0]]\n",
    "\n",
    "for i in range(len(matrix1)):\n",
    "    for j in range(len(matrix1[0])):\n",
    "        traspose_matrix[j][i] = matrix1[i][j]\n",
    "print(traspose_matrix)"
   ]
  },
  {
   "cell_type": "markdown",
   "id": "2f1782f0",
   "metadata": {},
   "source": [
    "### PROBLEM [ 60 ]"
   ]
  },
  {
   "cell_type": "code",
   "execution_count": null,
   "id": "aca96b12",
   "metadata": {},
   "outputs": [],
   "source": [
    "list1 = ['a','b','c','d','e','f']\n",
    "tuple_new = tuple(list1)\n",
    "print(tuple_new)"
   ]
  },
  {
   "cell_type": "markdown",
   "id": "f75a9be9",
   "metadata": {},
   "source": [
    "### PROBLEM [ 61 ]"
   ]
  },
  {
   "cell_type": "code",
   "execution_count": null,
   "id": "dd4f1af1",
   "metadata": {},
   "outputs": [],
   "source": [
    "tuple1 = tuple(i for i in  range(1,11))\n",
    "sumx = 0\n",
    "for i in range(len(tuple1)):\n",
    "    if i%2 == 0:\n",
    "        sumx += tuple1[i]**2\n",
    "print(sumx)"
   ]
  },
  {
   "cell_type": "markdown",
   "id": "b95ee91d",
   "metadata": {},
   "source": [
    "### PROBLEM [ 62 ]"
   ]
  },
  {
   "cell_type": "code",
   "execution_count": null,
   "id": "3d6d8c0d",
   "metadata": {
    "scrolled": true
   },
   "outputs": [],
   "source": [
    "tuple1 = tuple(i for i in  range(1,11))\n",
    "sumx = 0\n",
    "for i in range(len(tuple1)):\n",
    "    if i%2 != 0:\n",
    "        sumx += tuple1[i]**2\n",
    "print(sumx)"
   ]
  },
  {
   "cell_type": "markdown",
   "id": "36f7c690",
   "metadata": {},
   "source": [
    "### PROBLEM [ 63 ]"
   ]
  },
  {
   "cell_type": "code",
   "execution_count": null,
   "id": "39d323ca",
   "metadata": {},
   "outputs": [],
   "source": [
    "tuple2 = tuple(i for i in range(1,26))\n",
    "\n",
    "for number in tuple2:\n",
    "    count = 0\n",
    "    for n in range(1,number+1):\n",
    "        if number%n == 0:\n",
    "            count += 1\n",
    "    if count == 2:\n",
    "        print(number,end=' ')"
   ]
  },
  {
   "cell_type": "markdown",
   "id": "f6bc2237",
   "metadata": {},
   "source": [
    "### PROBLEM [ 64 ]"
   ]
  },
  {
   "cell_type": "code",
   "execution_count": null,
   "id": "c02c56ef",
   "metadata": {},
   "outputs": [],
   "source": [
    "tuple2 = tuple(i for i in range(1,26))\n",
    "print(sum(tuple2)/len(tuple2))"
   ]
  },
  {
   "cell_type": "markdown",
   "id": "ef79bb20",
   "metadata": {},
   "source": [
    "### PROBLEM [ 65 ]"
   ]
  },
  {
   "cell_type": "code",
   "execution_count": null,
   "id": "1421e9cd",
   "metadata": {},
   "outputs": [],
   "source": [
    "tuple1 = tuple(i for i in range(1,11))\n",
    "num = int(input('Please enter numberic : '))\n",
    "if num in tuple1:\n",
    "    print('Yes!!!')\n",
    "else:\n",
    "    print('No!!')"
   ]
  },
  {
   "cell_type": "markdown",
   "id": "e3d85bdf",
   "metadata": {},
   "source": [
    "### PROBLEM [ 66 ]"
   ]
  },
  {
   "cell_type": "code",
   "execution_count": 4,
   "id": "3e0836f0",
   "metadata": {
    "scrolled": true
   },
   "outputs": [
    {
     "name": "stdout",
     "output_type": "stream",
     "text": [
      "Please enter numberic : 1\n",
      "more than!!\n"
     ]
    }
   ],
   "source": [
    "tuple1 = tuple(i for i in range(1,11))\n",
    "num = int(input('Please enter numberic : '))\n",
    "if len(tuple1) > num:\n",
    "    print('more than!!')\n",
    "elif len(tuple1) < num:\n",
    "    print('less than!!')\n",
    "else:\n",
    "    print('equal to!!!')"
   ]
  },
  {
   "cell_type": "markdown",
   "id": "d81d0111",
   "metadata": {},
   "source": [
    "### PROBLEM [ 67 ]"
   ]
  },
  {
   "cell_type": "code",
   "execution_count": 3,
   "id": "0ea4b6ba",
   "metadata": {},
   "outputs": [
    {
     "name": "stdout",
     "output_type": "stream",
     "text": [
      "{'one': 1, 'two': 2, 'three': 3, 'four': 4}\n"
     ]
    }
   ],
   "source": [
    "list1 = ['one','two','three','four']\n",
    "list2 = [1,2,3,4]\n",
    "dic_new = { }\n",
    "for i in range(len(list1)):\n",
    "    for j in range(len(list2)):\n",
    "        dic_new[list1[i]] = list2[i]\n",
    "print(dic_new)"
   ]
  },
  {
   "cell_type": "markdown",
   "id": "c15f1b04",
   "metadata": {},
   "source": [
    "### PROBLEM [ 68 ]"
   ]
  },
  {
   "cell_type": "code",
   "execution_count": 5,
   "id": "9416b17d",
   "metadata": {},
   "outputs": [
    {
     "name": "stdout",
     "output_type": "stream",
     "text": [
      "{1: 'ant', 2: 'bird', 3: 'cat', 4: 'dog'}\n"
     ]
    }
   ],
   "source": [
    "tuple1 = (1,2,3,4)\n",
    "tuple2 = ('ant','bird','cat','dog')\n",
    "dic_new = { }\n",
    "for i in range(len(tuple1)):\n",
    "    for j in range(len(tuple2)):\n",
    "        dic_new[tuple1[i]] = tuple2[i]\n",
    "print(dic_new)"
   ]
  },
  {
   "cell_type": "markdown",
   "id": "0e49f5a4",
   "metadata": {},
   "source": [
    "### PROBLEM [ 69 ]"
   ]
  },
  {
   "cell_type": "code",
   "execution_count": 21,
   "id": "5f207f75",
   "metadata": {},
   "outputs": [
    {
     "name": "stdout",
     "output_type": "stream",
     "text": [
      "<class 'dict'> \n",
      " {0: 0, 1: 2, 2: 4, 3: 6, 4: 8, 5: 10, 6: 12, 7: 14, 8: 16}\n"
     ]
    }
   ],
   "source": [
    "empty_dict = { }\n",
    "for i in range(9):\n",
    "    empty_dict[i] = i*2\n",
    "print(type(empty_dict),'\\n',empty_dict)"
   ]
  },
  {
   "cell_type": "markdown",
   "id": "1c4cd506",
   "metadata": {},
   "source": [
    "### PROBLEM [ 70 ]"
   ]
  },
  {
   "cell_type": "code",
   "execution_count": 24,
   "id": "78325587",
   "metadata": {},
   "outputs": [
    {
     "name": "stdout",
     "output_type": "stream",
     "text": [
      "Please enter number :5\n",
      "Please enter the value of string : apple\n",
      "Please entegr the value of number : 15\n",
      "Please enter the value of string : banana\n",
      "Please entegr the value of number : 48\n",
      "Please enter the value of string : coconut\n",
      "Please entegr the value of number : 4\n",
      "Please enter the value of string : orange\n",
      "Please entegr the value of number : 5\n",
      "Please enter the value of string : mango\n",
      "Please entegr the value of number : 5\n",
      "<class 'dict'> \n",
      " {'apple': 15, 'banana': 48, 'coconut': 4, 'orange': 5, 'mango': 5}\n"
     ]
    }
   ],
   "source": [
    "num = int(input('Please enter number :'))\n",
    "empty_dict = { }\n",
    "for i in range(num):\n",
    "    string  = str(input('Please enter the value of string : '))\n",
    "    number = int(input('Please entegr the value of number : '))\n",
    "    empty_dict[string] = number\n",
    "print(type(empty_dict),'\\n',empty_dict)"
   ]
  }
 ],
 "metadata": {
  "kernelspec": {
   "display_name": "Python 3 (ipykernel)",
   "language": "python",
   "name": "python3"
  },
  "language_info": {
   "codemirror_mode": {
    "name": "ipython",
    "version": 3
   },
   "file_extension": ".py",
   "mimetype": "text/x-python",
   "name": "python",
   "nbconvert_exporter": "python",
   "pygments_lexer": "ipython3",
   "version": "3.10.9"
  }
 },
 "nbformat": 4,
 "nbformat_minor": 5
}
