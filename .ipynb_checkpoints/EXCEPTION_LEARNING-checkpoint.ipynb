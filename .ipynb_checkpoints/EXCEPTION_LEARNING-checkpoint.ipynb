{
 "cells": [
  {
   "cell_type": "code",
   "execution_count": null,
   "id": "ec77dc83",
   "metadata": {},
   "outputs": [],
   "source": []
  },
  {
   "cell_type": "markdown",
   "id": "e3975444",
   "metadata": {},
   "source": [
    "###### "
   ]
  },
  {
   "cell_type": "code",
   "execution_count": null,
   "id": "23bc0c5e",
   "metadata": {},
   "outputs": [],
   "source": [
    " def division():\n",
    "        num_1 = int(input(\"Please input the numberic_01 : \"))\n",
    "        num_2 = int(input(\"Please input the numberic_02 : \"))\n",
    "        result = num_1 / num_2\n",
    "        print(\"The result is \",result)\n",
    "try:\n",
    "    division()\n",
    "except:\n",
    "    print(\"The Program is Error!!!\")"
   ]
  }
 ],
 "metadata": {
  "kernelspec": {
   "display_name": "Python 3 (ipykernel)",
   "language": "python",
   "name": "python3"
  },
  "language_info": {
   "codemirror_mode": {
    "name": "ipython",
    "version": 3
   },
   "file_extension": ".py",
   "mimetype": "text/x-python",
   "name": "python",
   "nbconvert_exporter": "python",
   "pygments_lexer": "ipython3",
   "version": "3.10.9"
  }
 },
 "nbformat": 4,
 "nbformat_minor": 5
}
