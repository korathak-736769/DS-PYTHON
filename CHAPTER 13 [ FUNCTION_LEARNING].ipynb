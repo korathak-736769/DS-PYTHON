{
 "cells": [
  {
   "cell_type": "markdown",
   "id": "20413230",
   "metadata": {},
   "source": [
    "### Arbitrary Arguments [*agrs]"
   ]
  },
  {
   "cell_type": "code",
   "execution_count": null,
   "id": "d4d2eaa5",
   "metadata": {},
   "outputs": [],
   "source": [
    "def cal_num(*number): # after '*' you canto change name like: *item , *agrs , *numberic \n",
    "    print(number[0]+number[1])\n",
    "cal_num(5,10)"
   ]
  },
  {
   "cell_type": "markdown",
   "id": "e03aad39",
   "metadata": {},
   "source": [
    "### KeyWord Arguments"
   ]
  },
  {
   "cell_type": "code",
   "execution_count": null,
   "id": "ac6ec763",
   "metadata": {},
   "outputs": [],
   "source": [
    "def data_profile(fname,lname,city):\n",
    "    print(\"First Name :\",fname)\n",
    "    print(\"last Name :\",lname)\n",
    "    print(\"city :\",city)\n",
    "print('=========================')\n",
    "data_profile('Bangkok','Sompong','Makmee') #before\n",
    "print('=========================')\n",
    "data_profile(lname=\"Makmee\",fname=\"Sompong\",city=\"Bangkok\") #after\n",
    "print('=========================')"
   ]
  },
  {
   "cell_type": "markdown",
   "id": "5a4ca4fd",
   "metadata": {},
   "source": [
    "### Default Parameter"
   ]
  },
  {
   "cell_type": "code",
   "execution_count": null,
   "id": "bc5748de",
   "metadata": {},
   "outputs": [],
   "source": [
    "def data_profile(fname,lname,city=\"Bangkok\"):\n",
    "    print(\"First Name :\",fname)\n",
    "    print(\"last Name :\",lname)\n",
    "    print(\"city :\",city)\n",
    "data_profile('Sompong','Makmee')"
   ]
  },
  {
   "cell_type": "markdown",
   "id": "7d3db767",
   "metadata": {},
   "source": [
    "### List Parameter"
   ]
  },
  {
   "cell_type": "code",
   "execution_count": null,
   "id": "52004ba6",
   "metadata": {},
   "outputs": [],
   "source": [
    "def data_fruit(item):\n",
    "    for i in range(len(item)):\n",
    "        print('fruit[%d] : %s'%(i+1,item[i]))\n",
    "fruit = ['apple','mango','coconut','corn','banana']\n",
    "data_fruit(fruit)"
   ]
  },
  {
   "cell_type": "markdown",
   "id": "dc8f9641",
   "metadata": {},
   "source": [
    "###  Function Return"
   ]
  },
  {
   "cell_type": "code",
   "execution_count": null,
   "id": "ac165511",
   "metadata": {},
   "outputs": [],
   "source": [
    "def num_plus(*number):\n",
    "    return number[0]+number[1]\n",
    "num_plus(35,67)"
   ]
  },
  {
   "cell_type": "markdown",
   "id": "815ab783",
   "metadata": {},
   "source": [
    "### Arbitrary Arguments [*kwargs]"
   ]
  },
  {
   "cell_type": "code",
   "execution_count": null,
   "id": "d0b964f2",
   "metadata": {
    "scrolled": true
   },
   "outputs": [],
   "source": [
    "def display_data(**kwargs):\n",
    "    print(kwargs)\n",
    "display_data(fname=\"Korathank\",lname=\"Kongpanna\")\n",
    "display_data(fname=\"Korathank\",lname=\"Kongpanna\",age=20)\n",
    "display_data(fname=\"Korathank\",lname=\"Kongpanna\",age=20,city=\"bangkok\")\n",
    "display_data(fname=\"Korathank\",lname=\"Kongpanna\",age=20,city=\"bangkok\",status=\"have a sweetheart\")\n",
    "display_data(fname=\"Korathank\",lname=\"Kongpanna\",age=20,city=\"bangkok\",status=\"have a sweetheart\",job=\"Programmer\")"
   ]
  },
  {
   "cell_type": "markdown",
   "id": "02ae43da",
   "metadata": {},
   "source": [
    "### Function call Function"
   ]
  },
  {
   "cell_type": "code",
   "execution_count": null,
   "id": "1583292f",
   "metadata": {},
   "outputs": [],
   "source": [
    "def equal(x,y,z):\n",
    "    one = com_pare_max(x,y)\n",
    "    return com_pare_max(one,z)\n",
    "#     return com_pare_max(com_pare_max(x,y),z)\n",
    "\n",
    "def com_pare_max(x,y):\n",
    "    if x > y:\n",
    "        return x\n",
    "    else:\n",
    "        return y\n",
    "print('The most of number is ',equal(35,34,12))"
   ]
  },
  {
   "cell_type": "markdown",
   "id": "73333fc3",
   "metadata": {},
   "source": [
    "### Recursive Function"
   ]
  },
  {
   "cell_type": "code",
   "execution_count": null,
   "id": "12c0a1a7",
   "metadata": {},
   "outputs": [],
   "source": [
    "# find loop point , find exit point from loop\n",
    "# example : I want the number range 1-5 but don't use for loop\n",
    "def count(number):\n",
    "    if  number == 6:\n",
    "        return\n",
    "    print(number)\n",
    "    number+=1\n",
    "    count(number)\n",
    "    \n",
    "def summa_tion_demo01(num,sumx):\n",
    "    sumx += num\n",
    "    print(sumx)\n",
    "    if num == 10:\n",
    "        return\n",
    "    num+=1\n",
    "    summa_tion(num,sumx)\n",
    "\n",
    "def sum_mation_demo02(num,sumx):\n",
    "    if num == 0:\n",
    "        return\n",
    "    sumx += num\n",
    "    print('The numberic is ',num,'and The summation is ',sumx)\n",
    "    num-=1\n",
    "    sum_mation_demo02(num,sumx)\n",
    "def list_sum():\n",
    "    list_sumx = [i for i in range(6)]\n",
    "    print(sum(list_sumx))\n",
    "    \n",
    "# The best of summation by function\n",
    "def sumx_best(number):\n",
    "    if number == 1:\n",
    "        return number \n",
    "    else:\n",
    "        return number+sumx_best(number-1)"
   ]
  },
  {
   "cell_type": "markdown",
   "id": "14c3bd9f",
   "metadata": {},
   "source": [
    "### Function_Factorial ' ! '"
   ]
  },
  {
   "cell_type": "code",
   "execution_count": null,
   "id": "027e8dcb",
   "metadata": {},
   "outputs": [],
   "source": [
    "def fac_torial(number):\n",
    "    if number == 1:\n",
    "        return number\n",
    "    else:\n",
    "        return number*fac_torial(number-1)\n",
    "    \n",
    "print('The Factorial is ',fac_torial(int(input(\"Please enter the number :\"))))"
   ]
  },
  {
   "cell_type": "markdown",
   "id": "ce746b5b",
   "metadata": {},
   "source": [
    "### Function_Fibonacci [0,1,1,2,3,5,8,...] "
   ]
  },
  {
   "cell_type": "code",
   "execution_count": 2,
   "id": "a93c4ece",
   "metadata": {},
   "outputs": [
    {
     "name": "stdout",
     "output_type": "stream",
     "text": [
      "0\n",
      "1\n",
      "1\n",
      "2\n",
      "3\n",
      "5\n",
      "8\n",
      "13\n",
      "21\n",
      "34\n"
     ]
    }
   ],
   "source": [
    "def fibo_nacci(num):\n",
    "    if num <= 1:\n",
    "        return num\n",
    "    else:\n",
    "        return fibo_nacci(num-1) + fibo_nacci(num-2)\n",
    "for i in range(10):\n",
    "    print(fibo_nacci(i))"
   ]
  },
  {
   "cell_type": "markdown",
   "id": "fec62ec4",
   "metadata": {},
   "source": [
    "### Pass_Function "
   ]
  },
  {
   "cell_type": "code",
   "execution_count": 3,
   "id": "ee08ef8e",
   "metadata": {
    "scrolled": true
   },
   "outputs": [
    {
     "name": "stdout",
     "output_type": "stream",
     "text": [
      "Please enter name :korathank\n",
      "Congratulation!!!\n"
     ]
    }
   ],
   "source": [
    "def get_name(name):\n",
    "    if name == \"korathank\":\n",
    "        print(\"Congratulation!!!\")\n",
    "    else:\n",
    "        pass\n",
    "get_name(str(input(\"Please enter name :\")))"
   ]
  },
  {
   "cell_type": "markdown",
   "id": "6a5783f4",
   "metadata": {},
   "source": [
    "### Lambda_Function "
   ]
  },
  {
   "cell_type": "code",
   "execution_count": 18,
   "id": "513b5664",
   "metadata": {
    "scrolled": true
   },
   "outputs": [
    {
     "name": "stdout",
     "output_type": "stream",
     "text": [
      "Korathank\n",
      "90\n",
      "24\n",
      "25\n"
     ]
    }
   ],
   "source": [
    "# lambda argument : expresstion\n",
    "lambda name:name\n",
    "x = lambda name:name\n",
    "print(x(\"Korathank\"))\n",
    "\n",
    "sumx = lambda x,y:x+y\n",
    "print(sumx(56,34))\n",
    "\n",
    "multiply = lambda x,y:x*y\n",
    "print(multiply(4,6))\n",
    "\n",
    "def my_power(x):\n",
    "#     x is numberic\n",
    "#     a is power number \n",
    "    return lambda a:x**a\n",
    "y = my_power(5)\n",
    "result = y(2)\n",
    "print(result)"
   ]
  },
  {
   "cell_type": "markdown",
   "id": "dc13817c",
   "metadata": {},
   "source": [
    "### Assignment_01 [ Summation&Average ]"
   ]
  },
  {
   "cell_type": "code",
   "execution_count": 9,
   "id": "81e052c7",
   "metadata": {
    "scrolled": true
   },
   "outputs": [
    {
     "name": "stdout",
     "output_type": "stream",
     "text": [
      "Please enter the numberic : 5\n",
      "The total of number is :  15\n",
      "The Average of numberic is : 2.5\n"
     ]
    }
   ],
   "source": [
    "def sum_avg(number):\n",
    "    total = 0\n",
    "    for i in number:\n",
    "        total+=i\n",
    "    avg = total/len(number)\n",
    "    return total,avg\n",
    "    \n",
    "number = [ i for i in range(int(input(\"Please enter the numberic : \"))+1)]\n",
    "total,avg = sum_avg(number)\n",
    "print(\"The total of number is : \",total)\n",
    "\n",
    "print(\"The Average of numberic is :\",avg)\n",
    "# 5 + 4 + 3 + 2 + 1 = 15ิ"
   ]
  },
  {
   "cell_type": "markdown",
   "id": "e0e91a9d",
   "metadata": {},
   "source": [
    "### Assignment_02 [ The Telephone ]"
   ]
  },
  {
   "cell_type": "code",
   "execution_count": 1,
   "id": "c86f0a67",
   "metadata": {
    "scrolled": true
   },
   "outputs": [
    {
     "name": "stdout",
     "output_type": "stream",
     "text": [
      "The telephone number is  1445\n"
     ]
    }
   ],
   "source": [
    "data = {\"191\":\"emergency\",\"1669\":\"hospital\",\"1445\":\"fireman\"}\n",
    "def search_data(string):\n",
    "    for key,value in data.items():\n",
    "        if string == value:\n",
    "            print('The telephone number is ',key)\n",
    "search_data(\"fireman\")"
   ]
  },
  {
   "cell_type": "markdown",
   "id": "6e73bf5c",
   "metadata": {},
   "source": [
    "### Assignment_03 [ The Tower of Hanoi ]"
   ]
  },
  {
   "cell_type": "code",
   "execution_count": 3,
   "id": "c78062c7",
   "metadata": {},
   "outputs": [
    {
     "name": "stdout",
     "output_type": "stream",
     "text": [
      "Plate :  1 from => A go C\n",
      "Plate :  2 from => A go B\n",
      "Plate :  1 from => C go B\n",
      "Plate :  3 from => A go C\n",
      "Plate :  1 from => B go A\n",
      "Plate :  2 from => B go C\n",
      "Plate :  1 from => A go C\n"
     ]
    }
   ],
   "source": [
    "def ha_noi(n,a,b,c):\n",
    "    if n == 0:\n",
    "        return\n",
    "    ha_noi(n-1,a,c,b)\n",
    "    print(\"Plate : \",n,\"from =>\",a,\"go\",c)\n",
    "    ha_noi(n-1,b,a,c)\n",
    "ha_noi(3,\"A\",\"B\",\"C\")"
   ]
  }
 ],
 "metadata": {
  "kernelspec": {
   "display_name": "Python 3 (ipykernel)",
   "language": "python",
   "name": "python3"
  },
  "language_info": {
   "codemirror_mode": {
    "name": "ipython",
    "version": 3
   },
   "file_extension": ".py",
   "mimetype": "text/x-python",
   "name": "python",
   "nbconvert_exporter": "python",
   "pygments_lexer": "ipython3",
   "version": "3.10.9"
  }
 },
 "nbformat": 4,
 "nbformat_minor": 5
}
